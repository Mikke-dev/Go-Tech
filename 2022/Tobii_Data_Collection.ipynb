{
 "cells": [
  {
   "cell_type": "markdown",
   "id": "e9c39d53-ca0c-42e1-8a5b-70ee870e5571",
   "metadata": {},
   "source": [
    "# 初期設定"
   ]
  },
  {
   "cell_type": "markdown",
   "id": "0695c914",
   "metadata": {},
   "source": [
    "# Tobii pro nano データ取得プログラム"
   ]
  },
  {
   "cell_type": "markdown",
   "id": "befe40ae",
   "metadata": {},
   "source": [
    "# 5月24, 25の作業内容記載\n",
    "---"
   ]
  },
  {
   "cell_type": "markdown",
   "id": "c3477fb9",
   "metadata": {},
   "source": [
    "# Tobii Pro SDKのインストール"
   ]
  },
  {
   "cell_type": "code",
   "execution_count": 1,
   "id": "ef30c5a9",
   "metadata": {},
   "outputs": [
    {
     "name": "stdout",
     "output_type": "stream",
     "text": [
      "Collecting tobii_research\n",
      "  Downloading tobii_research-1.6.2-cp35-cp35m-win_amd64.whl (1.0 MB)\n",
      "Installing collected packages: tobii-research\n",
      "Successfully installed tobii-research-1.6.2\n"
     ]
    },
    {
     "name": "stderr",
     "output_type": "stream",
     "text": [
      "DEPRECATION: Python 3.5 reached the end of its life on September 13th, 2020. Please upgrade your Python as Python 3.5 is no longer maintained. pip 21.0 will drop support for Python 3.5 in January 2021. pip 21.0 will remove support for this functionality.\n"
     ]
    }
   ],
   "source": [
    "!pip install tobii_research"
   ]
  },
  {
   "cell_type": "markdown",
   "id": "17fb428a",
   "metadata": {},
   "source": [
    "# ライブラリのインストール"
   ]
  },
  {
   "cell_type": "code",
   "execution_count": 1,
   "id": "b4a6f0b4-cc13-4bf5-9f8d-abe58c78000a",
   "metadata": {},
   "outputs": [],
   "source": [
    "#ライブラリのインポート\n",
    "import tobii_research as tr\n",
    "import time\n",
    "import pandas as pd"
   ]
  },
  {
   "cell_type": "markdown",
   "id": "b3e5756a",
   "metadata": {},
   "source": [
    "# インテリセンスの設定"
   ]
  },
  {
   "cell_type": "code",
   "execution_count": 2,
   "id": "8ceb58ac-c079-451a-800b-6f6f68f71442",
   "metadata": {},
   "outputs": [],
   "source": [
    "%config IPCompleter.greedy =True"
   ]
  },
  {
   "cell_type": "markdown",
   "id": "246ba748-48e4-43c8-a240-734d5ad386b0",
   "metadata": {},
   "source": [
    "---\n",
    "# データの収集"
   ]
  },
  {
   "cell_type": "markdown",
   "id": "462a1463",
   "metadata": {},
   "source": [
    "## Tobiiの設定"
   ]
  },
  {
   "cell_type": "code",
   "execution_count": 3,
   "id": "bb36d603-4936-4b74-8eb8-67883aa92f86",
   "metadata": {},
   "outputs": [],
   "source": [
    "#tobiiを見つける\n",
    "found_eyetrackers = tr.find_all_eyetrackers()"
   ]
  },
  {
   "cell_type": "markdown",
   "id": "5f70aee3",
   "metadata": {},
   "source": [
    "## 接続されているTobiiの詳細"
   ]
  },
  {
   "cell_type": "code",
   "execution_count": 4,
   "id": "9e7e7cfc-8e12-437e-bf4b-26a976ab9cec",
   "metadata": {},
   "outputs": [
    {
     "name": "stdout",
     "output_type": "stream",
     "text": [
      "Address: tobii-prp://TPNA1-030251450253\n",
      "Model: Tobii Pro Nano\n",
      "Name (It's OK if this is empty): \n",
      "Serial number: TPNA1-030251450253\n"
     ]
    }
   ],
   "source": [
    "#my_eyetracerに一つ目のtobiiのデータが入る\n",
    "#一つ目のtobiiのデータを出力する\n",
    "my_eyetracker = found_eyetrackers[0]\n",
    "print(\"Address: \" + my_eyetracker.address)\n",
    "print(\"Model: \" + my_eyetracker.model)\n",
    "print(\"Name (It's OK if this is empty): \" + my_eyetracker.device_name)\n",
    "print(\"Serial number: \" + my_eyetracker.serial_number)"
   ]
  },
  {
   "cell_type": "markdown",
   "id": "ac500557",
   "metadata": {},
   "source": [
    "## データのカラム名を定義"
   ]
  },
  {
   "cell_type": "code",
   "execution_count": 1,
   "id": "2c55e2ec-292d-473e-9c97-804aa813a3e9",
   "metadata": {},
   "outputs": [],
   "source": [
    "#瞳孔と視線データを格納するデータフレームを定義\n",
    "#[左目の瞳孔の大きさ, 右目の瞳孔の大きさ, 左目の視線座標, 右目の視線座標]\n",
    "\n",
    "col_names=['L_pupil','R_pupil','L_gaze','R_gaze']"
   ]
  },
  {
   "cell_type": "markdown",
   "id": "3313bc1c",
   "metadata": {},
   "source": [
    "## キャリブレーションプログラム\n",
    "キャリブレーションはソフトで実行できるため、このコードは使用しなくて良い。  \n",
    "手動実行のために記載しているが使用は非推奨"
   ]
  },
  {
   "cell_type": "code",
   "execution_count": 6,
   "id": "e7bbdf56-ed9b-479c-8933-5e679ff49b10",
   "metadata": {},
   "outputs": [],
   "source": [
    "# #この辺でキャリブレーション\n",
    "# calibration = tr.ScreenBasedCalibration(my_eyetracker)\n",
    "\n",
    "# #キャリブレーションの開始\n",
    "# calibration.enter_calibration_mode()\n",
    "\n",
    "# points_to_calibrate = [(0.5, 0.5), (0.1, 0.1),\n",
    "#                            (0.1, 0.9), (0.9, 0.1), (0.9, 0.9)]\n",
    "\n",
    "# for point in points_to_calibrate:\n",
    "#     print((\"画面に点が表示されます {0}.\").format(point))\n",
    "#     draw_caribration_points(point)\n",
    "           \n",
    "    \n",
    "#     print((\"Collecting data at {0}.\").format(point))\n",
    "        \n",
    "#     if calibration.collect_data(point[0], point[1]) != tr.CALIBRATION_STATUS_SUCCESS:\n",
    "#         calibration.collect_data(point[0], point[1])\n",
    "        \n",
    "#     print('Computing and applying calibration.')\n",
    "#     calibration_result = calibration.compute_and_apply()\n",
    "#     print(('Compute and apply returned {0} and collected at {1} points.').\n",
    "#           format(calibration_result.status, len(calibration_result.calibration_points)))\n",
    "#     calibration.leave_calibration_mode()\n",
    "           "
   ]
  },
  {
   "cell_type": "markdown",
   "id": "cb96c4da",
   "metadata": {},
   "source": [
    "## キャリブレーションの終了"
   ]
  },
  {
   "cell_type": "code",
   "execution_count": 7,
   "id": "1ae67090-c798-49c8-b6f5-ade7d3774092",
   "metadata": {},
   "outputs": [],
   "source": [
    "#calibration.leave_calibration_mode()"
   ]
  },
  {
   "cell_type": "markdown",
   "id": "afece5bf",
   "metadata": {},
   "source": [
    "## 確認用"
   ]
  },
  {
   "cell_type": "code",
   "execution_count": 8,
   "id": "acd233d0-ae83-4d4e-b712-31b0ab7af9f0",
   "metadata": {},
   "outputs": [],
   "source": [
    "# #視線データを数字で出力する\n",
    "# #左目の情報と右目の情報がそれぞれ出力される\n",
    "# def gaze_data_callback(gaze_data):\n",
    "#     # Print gaze points of left and right eye\n",
    "#     print(\"Left eye: ({gaze_left_eye}) \\t Right eye: ({gaze_right_eye})\".format(\n",
    "#         gaze_left_eye=gaze_data['left_gaze_point_on_display_area'],\n",
    "#         gaze_right_eye=gaze_data['right_gaze_point_on_display_area']))"
   ]
  },
  {
   "cell_type": "markdown",
   "id": "fea29b0d",
   "metadata": {},
   "source": [
    "# 収集したデータを格納するためのデータフレームを定義"
   ]
  },
  {
   "cell_type": "code",
   "execution_count": 9,
   "id": "643832d8-2a93-41df-9622-299a052bfccb",
   "metadata": {},
   "outputs": [],
   "source": [
    "df = pd.DataFrame(columns=col_names)"
   ]
  },
  {
   "cell_type": "markdown",
   "id": "f2ae7bf3",
   "metadata": {},
   "source": [
    "# Tobiiから得たデータをデータフレームに格納するための関数"
   ]
  },
  {
   "cell_type": "code",
   "execution_count": 10,
   "id": "89a7b125-0b07-48fb-bea5-531ecc52dc82",
   "metadata": {},
   "outputs": [],
   "source": [
    "#視線データを数字で出力する\n",
    "#左目の情報と右目の情報がそれぞれ出力される\n",
    "\n",
    "def gaze_data_callback(gaze_data):\n",
    "    #gaze_dataに瞳孔や視線データなどのデータが様々入っているのでその中から指定する\n",
    "    \n",
    "    left_pupil=gaze_data['left_pupil_diameter']\n",
    "    left_gaze=gaze_data['left_gaze_point_on_display_area']\n",
    "    right_pupil=gaze_data['right_pupil_diameter']\n",
    "    right_gaze=gaze_data['right_gaze_point_on_display_area']\n",
    "    \n",
    "    eye_data=[left_pupil,right_pupil,left_gaze,right_gaze]\n",
    "\n",
    "    temp = pd.Series([left_pupil,right_pupil,left_gaze,right_gaze],index=col_names)\n",
    "    \n",
    "    global df\n",
    "    \n",
    "    df=df.append(temp,ignore_index=True)\n",
    "\n",
    "          \n",
    "#先にカラムを作成し、追加をしていく\n",
    "#pandasを使ってpdに変換しつつ"
   ]
  },
  {
   "cell_type": "markdown",
   "id": "cb590b99",
   "metadata": {},
   "source": [
    "# データ収集開始"
   ]
  },
  {
   "cell_type": "code",
   "execution_count": 11,
   "id": "32558244-a64e-46ce-80e6-c0ad39d50f4b",
   "metadata": {
    "tags": []
   },
   "outputs": [],
   "source": [
    "#つないでいるtobiiに紐づけをしてデータ\n",
    "#第一引数:定数\n",
    "#第二引数:定義した関数\n",
    "#第三引数:辞書として保存することを指定\n",
    "my_eyetracker.subscribe_to(tr.EYETRACKER_GAZE_DATA, gaze_data_callback, as_dictionary=True)"
   ]
  },
  {
   "cell_type": "markdown",
   "id": "cf382a3f",
   "metadata": {},
   "source": [
    "# データ収集終了前の処理"
   ]
  },
  {
   "cell_type": "code",
   "execution_count": 12,
   "id": "edf097b4-efd6-46e1-a7c7-235f29c141aa",
   "metadata": {
    "tags": []
   },
   "outputs": [
    {
     "ename": "KeyboardInterrupt",
     "evalue": "",
     "output_type": "error",
     "traceback": [
      "\u001b[1;31m---------------------------------------------------------------------------\u001b[0m",
      "\u001b[1;31mKeyboardInterrupt\u001b[0m                         Traceback (most recent call last)",
      "\u001b[1;32m<ipython-input-12-c5bc0075a303>\u001b[0m in \u001b[0;36m<module>\u001b[1;34m\u001b[0m\n\u001b[0;32m      1\u001b[0m \u001b[1;31m#実行することで処理を5秒止める\u001b[0m\u001b[1;33m\u001b[0m\u001b[1;33m\u001b[0m\u001b[0m\n\u001b[1;32m----> 2\u001b[1;33m \u001b[0mtime\u001b[0m\u001b[1;33m.\u001b[0m\u001b[0msleep\u001b[0m\u001b[1;33m(\u001b[0m\u001b[1;36m700\u001b[0m\u001b[1;33m)\u001b[0m\u001b[1;33m\u001b[0m\u001b[0m\n\u001b[0m\u001b[0;32m      3\u001b[0m \u001b[1;31m#注意してくだいさい\u001b[0m\u001b[1;33m\u001b[0m\u001b[1;33m\u001b[0m\u001b[0m\n\u001b[0;32m      4\u001b[0m \u001b[1;31m#最後が取れなくなる可能性あり\u001b[0m\u001b[1;33m\u001b[0m\u001b[1;33m\u001b[0m\u001b[0m\n",
      "\u001b[1;31mKeyboardInterrupt\u001b[0m: "
     ]
    }
   ],
   "source": [
    "#実行することで処理を5秒止める\n",
    "time.sleep(5)\n",
    "#注意してくだいさい\n",
    "#最後が取れなくなる可能性あり"
   ]
  },
  {
   "cell_type": "markdown",
   "id": "579b6a60",
   "metadata": {},
   "source": [
    "# データ収集終了"
   ]
  },
  {
   "cell_type": "code",
   "execution_count": 13,
   "id": "e3eff8ca-1fb6-4015-af49-a6f600808c8b",
   "metadata": {},
   "outputs": [],
   "source": [
    "#登録の解除をしてデータの収集を終える\n",
    "my_eyetracker.unsubscribe_from(tr.EYETRACKER_GAZE_DATA, gaze_data_callback)"
   ]
  },
  {
   "cell_type": "markdown",
   "id": "6372234c",
   "metadata": {},
   "source": [
    "# 取り出したデータをCSVファイルへ出力し保存"
   ]
  },
  {
   "cell_type": "code",
   "execution_count": 16,
   "id": "86f9da75-0f42-4fb9-978d-85bfe67fa930",
   "metadata": {},
   "outputs": [],
   "source": [
    "df.to_csv('csv_data/test-pupil_data.csv',index=False,header=True,mode = 'a')"
   ]
  },
  {
   "cell_type": "markdown",
   "id": "93463854-e2d4-4f74-8aa7-ace87c0ef425",
   "metadata": {},
   "source": [
    "# CSVデータの確認"
   ]
  },
  {
   "cell_type": "code",
   "execution_count": 17,
   "id": "69a69678-5783-4735-b83c-f741967fe745",
   "metadata": {},
   "outputs": [],
   "source": [
    "test_df=pd.read_csv('csv_data/test-pupil_data.csv')"
   ]
  },
  {
   "cell_type": "code",
   "execution_count": 18,
   "id": "cc203b29-fae8-4d39-a818-f5d5e7b1cd2b",
   "metadata": {},
   "outputs": [
    {
     "data": {
      "text/plain": [
       "<bound method NDFrame.describe of         L_pupil   R_pupil                                    L_gaze  \\\n",
       "0      2.928940  2.912064  (0.4219726622104645, 0.5492538809776306)   \n",
       "1      2.939255  2.908813  (0.4220326542854309, 0.5475883483886719)   \n",
       "2      2.946365  2.901596  (0.4177680015563965, 0.5460090041160583)   \n",
       "3      2.939331  2.908386   (0.4238233268260956, 0.553229570388794)   \n",
       "4      2.936218  2.900009  (0.4275253713130951, 0.5531033277511597)   \n",
       "...         ...       ...                                       ...   \n",
       "51426       NaN       NaN                                (nan, nan)   \n",
       "51427       NaN       NaN                                (nan, nan)   \n",
       "51428       NaN       NaN                                (nan, nan)   \n",
       "51429       NaN       NaN                                (nan, nan)   \n",
       "51430       NaN       NaN                                (nan, nan)   \n",
       "\n",
       "                                          R_gaze  \n",
       "0       (0.3982973098754883, 0.5825415849685669)  \n",
       "1      (0.39171847701072693, 0.5846663117408752)  \n",
       "2       (0.3970564305782318, 0.5719518661499023)  \n",
       "3      (0.39641091227531433, 0.5603844523429871)  \n",
       "4       (0.3905197083950043, 0.5647697448730469)  \n",
       "...                                          ...  \n",
       "51426                                 (nan, nan)  \n",
       "51427                                 (nan, nan)  \n",
       "51428                                 (nan, nan)  \n",
       "51429                                 (nan, nan)  \n",
       "51430                                 (nan, nan)  \n",
       "\n",
       "[51431 rows x 4 columns]>"
      ]
     },
     "execution_count": 18,
     "metadata": {},
     "output_type": "execute_result"
    }
   ],
   "source": [
    "test_df.describe"
   ]
  },
  {
   "cell_type": "markdown",
   "id": "6d0611df",
   "metadata": {},
   "source": [
    "---\n",
    "## 5/24\n",
    "## Tobii pro nano 環境構築/Tobii_Data_Collection.ipynbの作成"
   ]
  },
  {
   "cell_type": "markdown",
   "id": "c0ba82ab",
   "metadata": {},
   "source": [
    "これまでの進捗として、メルスペクトログラムを二次元のカラー画像から、3次元の立体グラフとして表示する画像やアニメーションを作成した。  \n",
    "それらは診断結果を提示する際に、患者や非専門医への理解や説得の支援に有効であるのかを調査する必要がある。  \n",
    "そのために各種診断結果をパソコンの画面上に提示した際に、疾病の根拠などの見て欲しい部分を患者が見ているか、理解ができているかを調べる。  \n",
    "実験機材としてTobii pro nanoセンサを用いて、パソコンをみる被験者の視線データを収集する。  \n",
    "またこのセンサは瞳孔の大きさも計測することが可能なためそれらも収集する。  \n",
    "Tobii pro nanoセンサはセンサを使用するためのSDKと適切なPythonのバージョンを用意するなどの環境構築が必要である。  \n",
    "そのためSDKを公式サイトからインストールし、Pythonも実行可能なバージョンである3.5系をインストールし、仮想環境を構築した。  \n",
    "またTobiiセンサを使用するためのツールの位置設定等の初期設定を実施した。  \n",
    "\n",
    "Tobiiセンサから視線データを取得し、ファイルに記述するためにはPythonでプログラムを作成する必要がある。  \n",
    "そのため本プログラムファイルTobii_Data_Collection.ipynbを作成した。  \n",
    "プログラムではTobiiセンサを扱うためのtobii_researchをインストールし、センサを接続するためのコーディング作業を実施した。  "
   ]
  },
  {
   "cell_type": "markdown",
   "id": "c3b40a54",
   "metadata": {},
   "source": [
    "---\n",
    "## 5/25\n",
    "## Tobii_Data_Collection.ipynbの作成/Tobii_Data_Collection.ipynbのテスト実行"
   ]
  },
  {
   "cell_type": "markdown",
   "id": "62b87ec1",
   "metadata": {},
   "source": [
    "前回作成した、Tobii_Data_Collection.ipynbにデータ取得と保存のプログラムを追加するため、引き続きコーディング作業を実施した。  \n",
    "データ取得は、Tobiiセンサを接続しツールでキャリブレーションを実行し、使用可能にした状態で本プログラムを実行することで可能にする。  \n",
    "my_eyetracker.subscribe_to(tr.EYETRACKER_GAZE_DATA, gaze_data_callback, as_dictionary=True)を実行することで、  \n",
    "瞳孔を'left_pupil_diameter'、'right_pupil_diameter'で取得する。  \n",
    "視線は'left_gaze_point_on_display_area'、'right_gaze_point_on_display_area'で取得する。  \n",
    "これらで取得したデータをプログラムでデータフレームを作成し、順次それに格納する。  \n",
    "視線収集が終了した際にそれらのデータを格納したデータフレームをCSV書き込むことで、データを他のプログラムで利用可能にする。  \n",
    "  \n",
    "これらのコーディング作業を実施し、実行が正しくされているかを確認するために、自身の視線データを取得する事前テストを実施した。  \n",
    "テストで生じた不備やバグを修正した後、取得したデータをCSVに保存し、それらを確認するコードを実行した。  \n",
    "結果を確認したところ視線データや瞳孔のデータを正しく保存できていることを確認した。  "
   ]
  },
  {
   "cell_type": "code",
   "execution_count": null,
   "id": "7d40cf2b",
   "metadata": {},
   "outputs": [],
   "source": []
  }
 ],
 "metadata": {
  "kernelspec": {
   "display_name": "Python (sys1)",
   "language": "python",
   "name": "sys1"
  },
  "language_info": {
   "codemirror_mode": {
    "name": "ipython",
    "version": 3
   },
   "file_extension": ".py",
   "mimetype": "text/x-python",
   "name": "python",
   "nbconvert_exporter": "python",
   "pygments_lexer": "ipython3",
   "version": "3.9.6"
  },
  "vscode": {
   "interpreter": {
    "hash": "cfdf7ef0ce2c9ec63e2bd5352137583cf330802bf154570fe053bf3a2c6a4c77"
   }
  }
 },
 "nbformat": 4,
 "nbformat_minor": 5
}
