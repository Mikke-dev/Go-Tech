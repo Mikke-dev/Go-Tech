{
 "cells": [
  {
   "cell_type": "markdown",
   "id": "d1d2b045",
   "metadata": {},
   "source": [
    "# 呼吸相検出モデル構築　プログラム\n",
    "\n",
    "# Xgboostを用いた呼吸相分類：間質性肺炎患者のみ\n",
    "\n",
    "  \n",
    "本ソースコードでは,聴診器試作機により取得した健常者または間質性肺炎患者の肺音データの中から呼吸相を識別する機械学習モデルを構築する.\n",
    "\n",
    "データの形式の違いにより読み込みができずに終了したため次回に実行結果を提示する.  \n",
    "肺音データはmel-スペクトログラムに変換した後, 一定幅のセグメントに分割する.セグメント画像を患者ごとに保存する.  \n",
    "また,各セグメントに吸気相および呼気相が含まれているかどうかを示すラベル情報とセグメント画像へのパスを示したCSVファイルを事前に作成し,本ソースコードで利用する.  \n",
    "呼吸相情報は医師の教師データを使用した.\n",
    "\n",
    "\n",
    "# 11月1日の作業内容記載"
   ]
  },
  {
   "cell_type": "markdown",
   "id": "56cdbaa9",
   "metadata": {},
   "source": [
    "## ライブラリのインポート"
   ]
  },
  {
   "cell_type": "code",
   "execution_count": 1,
   "id": "6e0f75e7",
   "metadata": {},
   "outputs": [],
   "source": [
    "import pandas as pd\n",
    "import numpy as np\n",
    "from PIL import Image\n",
    "import sys\n",
    "from sklearn.model_selection import cross_val_score\n",
    "from sklearn.model_selection import train_test_split\n",
    "from xgboost import XGBClassifier\n",
    "import xgboost as xgb\n",
    "import warnings\n",
    "import matplotlib.pyplot as plt\n",
    "import seaborn as sns\n",
    "import cv2\n",
    "warnings.filterwarnings('ignore')\n",
    "#%matplotlibib inline\n",
    "sns.set()"
   ]
  },
  {
   "cell_type": "markdown",
   "id": "513e63fe",
   "metadata": {},
   "source": [
    "### テストファイルの指定"
   ]
  },
  {
   "cell_type": "code",
   "execution_count": 2,
   "id": "acde3fd5",
   "metadata": {},
   "outputs": [],
   "source": [
    "test_file = [3427059]"
   ]
  },
  {
   "cell_type": "markdown",
   "id": "ce6312bb",
   "metadata": {},
   "source": [
    "## 呼吸相画像へのパスとラベル情報が付与されたCSVファイルの読み込み"
   ]
  },
  {
   "cell_type": "markdown",
   "id": "a65f0c3a",
   "metadata": {},
   "source": [
    "### TrainとTestで使用するデータを抽出"
   ]
  },
  {
   "cell_type": "code",
   "execution_count": 3,
   "id": "3b470edb",
   "metadata": {},
   "outputs": [
    {
     "data": {
      "text/html": [
       "<div>\n",
       "<style scoped>\n",
       "    .dataframe tbody tr th:only-of-type {\n",
       "        vertical-align: middle;\n",
       "    }\n",
       "\n",
       "    .dataframe tbody tr th {\n",
       "        vertical-align: top;\n",
       "    }\n",
       "\n",
       "    .dataframe thead th {\n",
       "        text-align: right;\n",
       "    }\n",
       "</style>\n",
       "<table border=\"1\" class=\"dataframe\">\n",
       "  <thead>\n",
       "    <tr style=\"text-align: right;\">\n",
       "      <th></th>\n",
       "      <th>index</th>\n",
       "      <th>image_name</th>\n",
       "      <th>patient</th>\n",
       "      <th>state</th>\n",
       "      <th>time</th>\n",
       "      <th>patient_No</th>\n",
       "      <th>breath_phase</th>\n",
       "    </tr>\n",
       "  </thead>\n",
       "  <tbody>\n",
       "    <tr>\n",
       "      <th>0</th>\n",
       "      <td>1</td>\n",
       "      <td>Data/mel_spec_breath/inhall/3427059_Ch0_gray_m...</td>\n",
       "      <td>3427059</td>\n",
       "      <td>1</td>\n",
       "      <td>0</td>\n",
       "      <td>0</td>\n",
       "      <td>1</td>\n",
       "    </tr>\n",
       "    <tr>\n",
       "      <th>1</th>\n",
       "      <td>2</td>\n",
       "      <td>Data/mel_spec_breath/inhall/3427059_Ch0_gray_m...</td>\n",
       "      <td>3427059</td>\n",
       "      <td>1</td>\n",
       "      <td>0</td>\n",
       "      <td>0</td>\n",
       "      <td>1</td>\n",
       "    </tr>\n",
       "    <tr>\n",
       "      <th>2</th>\n",
       "      <td>3</td>\n",
       "      <td>Data/mel_spec_breath/inhall/3427059_Ch0_gray_m...</td>\n",
       "      <td>3427059</td>\n",
       "      <td>1</td>\n",
       "      <td>0</td>\n",
       "      <td>0</td>\n",
       "      <td>1</td>\n",
       "    </tr>\n",
       "    <tr>\n",
       "      <th>3</th>\n",
       "      <td>4</td>\n",
       "      <td>Data/mel_spec_breath/inhall/3427059_Ch0_gray_m...</td>\n",
       "      <td>3427059</td>\n",
       "      <td>1</td>\n",
       "      <td>0</td>\n",
       "      <td>0</td>\n",
       "      <td>1</td>\n",
       "    </tr>\n",
       "    <tr>\n",
       "      <th>4</th>\n",
       "      <td>5</td>\n",
       "      <td>Data/mel_spec_breath/inhall/3427059_Ch0_gray_m...</td>\n",
       "      <td>3427059</td>\n",
       "      <td>1</td>\n",
       "      <td>0</td>\n",
       "      <td>0</td>\n",
       "      <td>1</td>\n",
       "    </tr>\n",
       "    <tr>\n",
       "      <th>...</th>\n",
       "      <td>...</td>\n",
       "      <td>...</td>\n",
       "      <td>...</td>\n",
       "      <td>...</td>\n",
       "      <td>...</td>\n",
       "      <td>...</td>\n",
       "      <td>...</td>\n",
       "    </tr>\n",
       "    <tr>\n",
       "      <th>68</th>\n",
       "      <td>69</td>\n",
       "      <td>Data/mel_spec_breath/exhall/9710964_Ch0_gray_m...</td>\n",
       "      <td>9710964</td>\n",
       "      <td>1</td>\n",
       "      <td>0</td>\n",
       "      <td>0</td>\n",
       "      <td>0</td>\n",
       "    </tr>\n",
       "    <tr>\n",
       "      <th>69</th>\n",
       "      <td>70</td>\n",
       "      <td>Data/mel_spec_breath/exhall/9710964_Ch0_gray_m...</td>\n",
       "      <td>9710964</td>\n",
       "      <td>1</td>\n",
       "      <td>0</td>\n",
       "      <td>0</td>\n",
       "      <td>0</td>\n",
       "    </tr>\n",
       "    <tr>\n",
       "      <th>70</th>\n",
       "      <td>71</td>\n",
       "      <td>Data/mel_spec_breath/exhall/9710964_Ch0_gray_m...</td>\n",
       "      <td>9710964</td>\n",
       "      <td>1</td>\n",
       "      <td>0</td>\n",
       "      <td>0</td>\n",
       "      <td>0</td>\n",
       "    </tr>\n",
       "    <tr>\n",
       "      <th>71</th>\n",
       "      <td>72</td>\n",
       "      <td>Data/mel_spec_breath/exhall/9710964_Ch0_gray_m...</td>\n",
       "      <td>9710964</td>\n",
       "      <td>1</td>\n",
       "      <td>0</td>\n",
       "      <td>0</td>\n",
       "      <td>0</td>\n",
       "    </tr>\n",
       "    <tr>\n",
       "      <th>72</th>\n",
       "      <td>73</td>\n",
       "      <td>Data/mel_spec_breath/exhall/9710964_Ch0_gray_m...</td>\n",
       "      <td>9710964</td>\n",
       "      <td>1</td>\n",
       "      <td>0</td>\n",
       "      <td>0</td>\n",
       "      <td>0</td>\n",
       "    </tr>\n",
       "  </tbody>\n",
       "</table>\n",
       "<p>73 rows × 7 columns</p>\n",
       "</div>"
      ],
      "text/plain": [
       "    index                                         image_name  patient  state  \\\n",
       "0       1  Data/mel_spec_breath/inhall/3427059_Ch0_gray_m...  3427059      1   \n",
       "1       2  Data/mel_spec_breath/inhall/3427059_Ch0_gray_m...  3427059      1   \n",
       "2       3  Data/mel_spec_breath/inhall/3427059_Ch0_gray_m...  3427059      1   \n",
       "3       4  Data/mel_spec_breath/inhall/3427059_Ch0_gray_m...  3427059      1   \n",
       "4       5  Data/mel_spec_breath/inhall/3427059_Ch0_gray_m...  3427059      1   \n",
       "..    ...                                                ...      ...    ...   \n",
       "68     69  Data/mel_spec_breath/exhall/9710964_Ch0_gray_m...  9710964      1   \n",
       "69     70  Data/mel_spec_breath/exhall/9710964_Ch0_gray_m...  9710964      1   \n",
       "70     71  Data/mel_spec_breath/exhall/9710964_Ch0_gray_m...  9710964      1   \n",
       "71     72  Data/mel_spec_breath/exhall/9710964_Ch0_gray_m...  9710964      1   \n",
       "72     73  Data/mel_spec_breath/exhall/9710964_Ch0_gray_m...  9710964      1   \n",
       "\n",
       "    time  patient_No  breath_phase  \n",
       "0      0           0             1  \n",
       "1      0           0             1  \n",
       "2      0           0             1  \n",
       "3      0           0             1  \n",
       "4      0           0             1  \n",
       "..   ...         ...           ...  \n",
       "68     0           0             0  \n",
       "69     0           0             0  \n",
       "70     0           0             0  \n",
       "71     0           0             0  \n",
       "72     0           0             0  \n",
       "\n",
       "[73 rows x 7 columns]"
      ]
     },
     "execution_count": 3,
     "metadata": {},
     "output_type": "execute_result"
    }
   ],
   "source": [
    "df_crack = pd.read_csv('Data/mel_spec_breath/csv/breath_mel_spec_crack.csv')\n",
    "df_crack.head(200)"
   ]
  },
  {
   "cell_type": "markdown",
   "id": "e76642a4",
   "metadata": {},
   "source": [
    "### Trainで使用するデータを抽出"
   ]
  },
  {
   "cell_type": "code",
   "execution_count": 4,
   "id": "504b36db",
   "metadata": {},
   "outputs": [
    {
     "name": "stdout",
     "output_type": "stream",
     "text": [
      "63\n"
     ]
    },
    {
     "data": {
      "text/html": [
       "<div>\n",
       "<style scoped>\n",
       "    .dataframe tbody tr th:only-of-type {\n",
       "        vertical-align: middle;\n",
       "    }\n",
       "\n",
       "    .dataframe tbody tr th {\n",
       "        vertical-align: top;\n",
       "    }\n",
       "\n",
       "    .dataframe thead th {\n",
       "        text-align: right;\n",
       "    }\n",
       "</style>\n",
       "<table border=\"1\" class=\"dataframe\">\n",
       "  <thead>\n",
       "    <tr style=\"text-align: right;\">\n",
       "      <th></th>\n",
       "      <th>index</th>\n",
       "      <th>image_name</th>\n",
       "      <th>patient</th>\n",
       "      <th>state</th>\n",
       "      <th>time</th>\n",
       "      <th>patient_No</th>\n",
       "      <th>breath_phase</th>\n",
       "    </tr>\n",
       "  </thead>\n",
       "  <tbody>\n",
       "    <tr>\n",
       "      <th>0</th>\n",
       "      <td>6</td>\n",
       "      <td>Data/mel_spec_breath/inhall/4495349_Ch0_gray_m...</td>\n",
       "      <td>4495349</td>\n",
       "      <td>1</td>\n",
       "      <td>0</td>\n",
       "      <td>0</td>\n",
       "      <td>1</td>\n",
       "    </tr>\n",
       "    <tr>\n",
       "      <th>1</th>\n",
       "      <td>7</td>\n",
       "      <td>Data/mel_spec_breath/inhall/4495349_Ch0_gray_m...</td>\n",
       "      <td>4495349</td>\n",
       "      <td>1</td>\n",
       "      <td>0</td>\n",
       "      <td>0</td>\n",
       "      <td>1</td>\n",
       "    </tr>\n",
       "    <tr>\n",
       "      <th>2</th>\n",
       "      <td>8</td>\n",
       "      <td>Data/mel_spec_breath/inhall/4495349_Ch0_gray_m...</td>\n",
       "      <td>4495349</td>\n",
       "      <td>1</td>\n",
       "      <td>0</td>\n",
       "      <td>0</td>\n",
       "      <td>1</td>\n",
       "    </tr>\n",
       "    <tr>\n",
       "      <th>3</th>\n",
       "      <td>9</td>\n",
       "      <td>Data/mel_spec_breath/inhall/4495349_Ch0_gray_m...</td>\n",
       "      <td>4495349</td>\n",
       "      <td>1</td>\n",
       "      <td>0</td>\n",
       "      <td>0</td>\n",
       "      <td>1</td>\n",
       "    </tr>\n",
       "    <tr>\n",
       "      <th>4</th>\n",
       "      <td>10</td>\n",
       "      <td>Data/mel_spec_breath/inhall/4495349_Ch0_gray_m...</td>\n",
       "      <td>4495349</td>\n",
       "      <td>1</td>\n",
       "      <td>0</td>\n",
       "      <td>0</td>\n",
       "      <td>1</td>\n",
       "    </tr>\n",
       "    <tr>\n",
       "      <th>...</th>\n",
       "      <td>...</td>\n",
       "      <td>...</td>\n",
       "      <td>...</td>\n",
       "      <td>...</td>\n",
       "      <td>...</td>\n",
       "      <td>...</td>\n",
       "      <td>...</td>\n",
       "    </tr>\n",
       "    <tr>\n",
       "      <th>58</th>\n",
       "      <td>69</td>\n",
       "      <td>Data/mel_spec_breath/exhall/9710964_Ch0_gray_m...</td>\n",
       "      <td>9710964</td>\n",
       "      <td>1</td>\n",
       "      <td>0</td>\n",
       "      <td>0</td>\n",
       "      <td>0</td>\n",
       "    </tr>\n",
       "    <tr>\n",
       "      <th>59</th>\n",
       "      <td>70</td>\n",
       "      <td>Data/mel_spec_breath/exhall/9710964_Ch0_gray_m...</td>\n",
       "      <td>9710964</td>\n",
       "      <td>1</td>\n",
       "      <td>0</td>\n",
       "      <td>0</td>\n",
       "      <td>0</td>\n",
       "    </tr>\n",
       "    <tr>\n",
       "      <th>60</th>\n",
       "      <td>71</td>\n",
       "      <td>Data/mel_spec_breath/exhall/9710964_Ch0_gray_m...</td>\n",
       "      <td>9710964</td>\n",
       "      <td>1</td>\n",
       "      <td>0</td>\n",
       "      <td>0</td>\n",
       "      <td>0</td>\n",
       "    </tr>\n",
       "    <tr>\n",
       "      <th>61</th>\n",
       "      <td>72</td>\n",
       "      <td>Data/mel_spec_breath/exhall/9710964_Ch0_gray_m...</td>\n",
       "      <td>9710964</td>\n",
       "      <td>1</td>\n",
       "      <td>0</td>\n",
       "      <td>0</td>\n",
       "      <td>0</td>\n",
       "    </tr>\n",
       "    <tr>\n",
       "      <th>62</th>\n",
       "      <td>73</td>\n",
       "      <td>Data/mel_spec_breath/exhall/9710964_Ch0_gray_m...</td>\n",
       "      <td>9710964</td>\n",
       "      <td>1</td>\n",
       "      <td>0</td>\n",
       "      <td>0</td>\n",
       "      <td>0</td>\n",
       "    </tr>\n",
       "  </tbody>\n",
       "</table>\n",
       "<p>63 rows × 7 columns</p>\n",
       "</div>"
      ],
      "text/plain": [
       "    index                                         image_name  patient  state  \\\n",
       "0       6  Data/mel_spec_breath/inhall/4495349_Ch0_gray_m...  4495349      1   \n",
       "1       7  Data/mel_spec_breath/inhall/4495349_Ch0_gray_m...  4495349      1   \n",
       "2       8  Data/mel_spec_breath/inhall/4495349_Ch0_gray_m...  4495349      1   \n",
       "3       9  Data/mel_spec_breath/inhall/4495349_Ch0_gray_m...  4495349      1   \n",
       "4      10  Data/mel_spec_breath/inhall/4495349_Ch0_gray_m...  4495349      1   \n",
       "..    ...                                                ...      ...    ...   \n",
       "58     69  Data/mel_spec_breath/exhall/9710964_Ch0_gray_m...  9710964      1   \n",
       "59     70  Data/mel_spec_breath/exhall/9710964_Ch0_gray_m...  9710964      1   \n",
       "60     71  Data/mel_spec_breath/exhall/9710964_Ch0_gray_m...  9710964      1   \n",
       "61     72  Data/mel_spec_breath/exhall/9710964_Ch0_gray_m...  9710964      1   \n",
       "62     73  Data/mel_spec_breath/exhall/9710964_Ch0_gray_m...  9710964      1   \n",
       "\n",
       "    time  patient_No  breath_phase  \n",
       "0      0           0             1  \n",
       "1      0           0             1  \n",
       "2      0           0             1  \n",
       "3      0           0             1  \n",
       "4      0           0             1  \n",
       "..   ...         ...           ...  \n",
       "58     0           0             0  \n",
       "59     0           0             0  \n",
       "60     0           0             0  \n",
       "61     0           0             0  \n",
       "62     0           0             0  \n",
       "\n",
       "[63 rows x 7 columns]"
      ]
     },
     "execution_count": 4,
     "metadata": {},
     "output_type": "execute_result"
    }
   ],
   "source": [
    "df_train = df_crack[(df_crack[\"patient\"]!=test_file[0])]# & (df_crack[\"patient\"]!=test_file[1])]\n",
    "train_num = len(df_train)\n",
    "df_train.reset_index(drop=True, inplace=True)\n",
    "print(train_num)\n",
    "df_train"
   ]
  },
  {
   "cell_type": "markdown",
   "id": "a95dfb67",
   "metadata": {},
   "source": [
    "### Testで使用するデータを取り除く(今回は使用しない)"
   ]
  },
  {
   "cell_type": "code",
   "execution_count": 5,
   "id": "025cc8f6",
   "metadata": {},
   "outputs": [
    {
     "name": "stdout",
     "output_type": "stream",
     "text": [
      "10\n"
     ]
    },
    {
     "data": {
      "text/html": [
       "<div>\n",
       "<style scoped>\n",
       "    .dataframe tbody tr th:only-of-type {\n",
       "        vertical-align: middle;\n",
       "    }\n",
       "\n",
       "    .dataframe tbody tr th {\n",
       "        vertical-align: top;\n",
       "    }\n",
       "\n",
       "    .dataframe thead th {\n",
       "        text-align: right;\n",
       "    }\n",
       "</style>\n",
       "<table border=\"1\" class=\"dataframe\">\n",
       "  <thead>\n",
       "    <tr style=\"text-align: right;\">\n",
       "      <th></th>\n",
       "      <th>index</th>\n",
       "      <th>image_name</th>\n",
       "      <th>patient</th>\n",
       "      <th>state</th>\n",
       "      <th>time</th>\n",
       "      <th>patient_No</th>\n",
       "      <th>breath_phase</th>\n",
       "    </tr>\n",
       "  </thead>\n",
       "  <tbody>\n",
       "    <tr>\n",
       "      <th>0</th>\n",
       "      <td>1</td>\n",
       "      <td>Data/mel_spec_breath/inhall/3427059_Ch0_gray_m...</td>\n",
       "      <td>3427059</td>\n",
       "      <td>1</td>\n",
       "      <td>0</td>\n",
       "      <td>0</td>\n",
       "      <td>1</td>\n",
       "    </tr>\n",
       "    <tr>\n",
       "      <th>1</th>\n",
       "      <td>2</td>\n",
       "      <td>Data/mel_spec_breath/inhall/3427059_Ch0_gray_m...</td>\n",
       "      <td>3427059</td>\n",
       "      <td>1</td>\n",
       "      <td>0</td>\n",
       "      <td>0</td>\n",
       "      <td>1</td>\n",
       "    </tr>\n",
       "    <tr>\n",
       "      <th>2</th>\n",
       "      <td>3</td>\n",
       "      <td>Data/mel_spec_breath/inhall/3427059_Ch0_gray_m...</td>\n",
       "      <td>3427059</td>\n",
       "      <td>1</td>\n",
       "      <td>0</td>\n",
       "      <td>0</td>\n",
       "      <td>1</td>\n",
       "    </tr>\n",
       "    <tr>\n",
       "      <th>3</th>\n",
       "      <td>4</td>\n",
       "      <td>Data/mel_spec_breath/inhall/3427059_Ch0_gray_m...</td>\n",
       "      <td>3427059</td>\n",
       "      <td>1</td>\n",
       "      <td>0</td>\n",
       "      <td>0</td>\n",
       "      <td>1</td>\n",
       "    </tr>\n",
       "    <tr>\n",
       "      <th>4</th>\n",
       "      <td>5</td>\n",
       "      <td>Data/mel_spec_breath/inhall/3427059_Ch0_gray_m...</td>\n",
       "      <td>3427059</td>\n",
       "      <td>1</td>\n",
       "      <td>0</td>\n",
       "      <td>0</td>\n",
       "      <td>1</td>\n",
       "    </tr>\n",
       "    <tr>\n",
       "      <th>5</th>\n",
       "      <td>37</td>\n",
       "      <td>Data/mel_spec_breath/exhall/3427059_Ch0_gray_m...</td>\n",
       "      <td>3427059</td>\n",
       "      <td>1</td>\n",
       "      <td>0</td>\n",
       "      <td>0</td>\n",
       "      <td>0</td>\n",
       "    </tr>\n",
       "    <tr>\n",
       "      <th>6</th>\n",
       "      <td>38</td>\n",
       "      <td>Data/mel_spec_breath/exhall/3427059_Ch0_gray_m...</td>\n",
       "      <td>3427059</td>\n",
       "      <td>1</td>\n",
       "      <td>0</td>\n",
       "      <td>0</td>\n",
       "      <td>0</td>\n",
       "    </tr>\n",
       "    <tr>\n",
       "      <th>7</th>\n",
       "      <td>39</td>\n",
       "      <td>Data/mel_spec_breath/exhall/3427059_Ch0_gray_m...</td>\n",
       "      <td>3427059</td>\n",
       "      <td>1</td>\n",
       "      <td>0</td>\n",
       "      <td>0</td>\n",
       "      <td>0</td>\n",
       "    </tr>\n",
       "    <tr>\n",
       "      <th>8</th>\n",
       "      <td>40</td>\n",
       "      <td>Data/mel_spec_breath/exhall/3427059_Ch0_gray_m...</td>\n",
       "      <td>3427059</td>\n",
       "      <td>1</td>\n",
       "      <td>0</td>\n",
       "      <td>0</td>\n",
       "      <td>0</td>\n",
       "    </tr>\n",
       "    <tr>\n",
       "      <th>9</th>\n",
       "      <td>41</td>\n",
       "      <td>Data/mel_spec_breath/exhall/3427059_Ch0_gray_m...</td>\n",
       "      <td>3427059</td>\n",
       "      <td>1</td>\n",
       "      <td>0</td>\n",
       "      <td>0</td>\n",
       "      <td>0</td>\n",
       "    </tr>\n",
       "  </tbody>\n",
       "</table>\n",
       "</div>"
      ],
      "text/plain": [
       "   index                                         image_name  patient  state  \\\n",
       "0      1  Data/mel_spec_breath/inhall/3427059_Ch0_gray_m...  3427059      1   \n",
       "1      2  Data/mel_spec_breath/inhall/3427059_Ch0_gray_m...  3427059      1   \n",
       "2      3  Data/mel_spec_breath/inhall/3427059_Ch0_gray_m...  3427059      1   \n",
       "3      4  Data/mel_spec_breath/inhall/3427059_Ch0_gray_m...  3427059      1   \n",
       "4      5  Data/mel_spec_breath/inhall/3427059_Ch0_gray_m...  3427059      1   \n",
       "5     37  Data/mel_spec_breath/exhall/3427059_Ch0_gray_m...  3427059      1   \n",
       "6     38  Data/mel_spec_breath/exhall/3427059_Ch0_gray_m...  3427059      1   \n",
       "7     39  Data/mel_spec_breath/exhall/3427059_Ch0_gray_m...  3427059      1   \n",
       "8     40  Data/mel_spec_breath/exhall/3427059_Ch0_gray_m...  3427059      1   \n",
       "9     41  Data/mel_spec_breath/exhall/3427059_Ch0_gray_m...  3427059      1   \n",
       "\n",
       "   time  patient_No  breath_phase  \n",
       "0     0           0             1  \n",
       "1     0           0             1  \n",
       "2     0           0             1  \n",
       "3     0           0             1  \n",
       "4     0           0             1  \n",
       "5     0           0             0  \n",
       "6     0           0             0  \n",
       "7     0           0             0  \n",
       "8     0           0             0  \n",
       "9     0           0             0  "
      ]
     },
     "execution_count": 5,
     "metadata": {},
     "output_type": "execute_result"
    }
   ],
   "source": [
    "df_test = df_crack[(df_crack[\"patient\"]==test_file[0])]# | (df_crack[\"patient\"]==test_file[1])]\n",
    "test_num = len(df_test)\n",
    "df_test.reset_index(drop=True, inplace=True)\n",
    "print(test_num)\n",
    "df_test"
   ]
  },
  {
   "cell_type": "markdown",
   "id": "dff9fee6",
   "metadata": {},
   "source": [
    "### 可視化テスト用データの抽出  \n",
    "間質性肺炎患者1名   \n",
    "※モデル評価用のテストデータ"
   ]
  },
  {
   "cell_type": "code",
   "execution_count": 6,
   "id": "387b23d6",
   "metadata": {},
   "outputs": [],
   "source": [
    "path_test_1 = \"../Spectrogram/Prototype/mel_spec/\"+str(test_file[0])+\"_Ch0_mel_spec.png\"\n",
    "#path_test_2 = \"../Spectrogram/Prototype/mel_spec/\"+test_file[1]+\"_Ch0_mel_spec.png\"\n",
    "\n",
    "test_1 = cv2.imread(path_test_1)\n",
    "#test_2 = cv2.imread(path_test_2)\n",
    "\n",
    "test_gray_1 = cv2.cvtColor(test_1, cv2.COLOR_BGR2GRAY)\n",
    "#test_gray_2 = cv2.cvtColor(test_2, cv2.COLOR_BGR2GRAY)\n",
    "test_gray_1 = test_gray_1[128:256,:]\n",
    "#test_gray_2 = test_gray_2[128:256,:]"
   ]
  },
  {
   "cell_type": "code",
   "execution_count": 7,
   "id": "66d2532c",
   "metadata": {},
   "outputs": [
    {
     "name": "stdout",
     "output_type": "stream",
     "text": [
      "(128, 1584)\n"
     ]
    },
    {
     "data": {
      "image/png": "[encoded data removed]",
      "text/plain": [
       "<Figure size 640x480 with 1 Axes>"
      ]
     },
     "metadata": {},
     "output_type": "display_data"
    }
   ],
   "source": [
    "plt.imshow(test_gray_1)\n",
    "print(test_gray_1.shape)"
   ]
  },
  {
   "cell_type": "code",
   "execution_count": 8,
   "id": "c80837d3",
   "metadata": {},
   "outputs": [],
   "source": [
    "#plt.imshow(test_gray_2)\n",
    "#print(test_gray_2.shape)"
   ]
  },
  {
   "cell_type": "markdown",
   "id": "70d6a2ec",
   "metadata": {},
   "source": [
    "## 画像を一次元配列のデータとして格納するための訓練用配列とテスト用配列を初期化して用意  "
   ]
  },
  {
   "cell_type": "markdown",
   "id": "7a3ece7f",
   "metadata": {},
   "source": [
    "### 訓練データ用配列の初期化"
   ]
  },
  {
   "cell_type": "code",
   "execution_count": 9,
   "id": "a686dee7",
   "metadata": {},
   "outputs": [
    {
     "name": "stdout",
     "output_type": "stream",
     "text": [
      "(63, 128)\n",
      "(63,)\n"
     ]
    }
   ],
   "source": [
    "count=0\n",
    "num_of_data_total=train_num\n",
    "N_col=128\n",
    "X = np.zeros((num_of_data_total, N_col))\n",
    "y = np.zeros((num_of_data_total))\n",
    "print(X.shape)\n",
    "print(y.shape)"
   ]
  },
  {
   "cell_type": "markdown",
   "id": "e2586173",
   "metadata": {},
   "source": [
    "### テストデータ用配列の初期化"
   ]
  },
  {
   "cell_type": "code",
   "execution_count": 10,
   "id": "7aea5d2d",
   "metadata": {},
   "outputs": [
    {
     "name": "stdout",
     "output_type": "stream",
     "text": [
      "(187, 128)\n",
      "(187,)\n"
     ]
    }
   ],
   "source": [
    "split_num = 186+1#173\n",
    "num_of_data_total=split_num\n",
    "N_col=128\n",
    "X_test_1 = np.zeros((num_of_data_total, N_col))\n",
    "y_test_1 = np.zeros((num_of_data_total))\n",
    "#X_test_2 = np.zeros((num_of_data_total, N_col))\n",
    "#y_test_2 = np.zeros((num_of_data_total))\n",
    "print(X_test_1.shape)\n",
    "print(y_test_1.shape)\n",
    "#print(X_test_2.shape)\n",
    "#print(y_test_2.shape)"
   ]
  },
  {
   "cell_type": "markdown",
   "id": "1006ce92",
   "metadata": {},
   "source": [
    "### pathの確認"
   ]
  },
  {
   "cell_type": "code",
   "execution_count": 11,
   "id": "64bea79c",
   "metadata": {},
   "outputs": [
    {
     "data": {
      "text/plain": [
       "0     Data/mel_spec_breath/inhall/4495349_Ch0_gray_m...\n",
       "1     Data/mel_spec_breath/inhall/4495349_Ch0_gray_m...\n",
       "2     Data/mel_spec_breath/inhall/4495349_Ch0_gray_m...\n",
       "3     Data/mel_spec_breath/inhall/4495349_Ch0_gray_m...\n",
       "4     Data/mel_spec_breath/inhall/4495349_Ch0_gray_m...\n",
       "                            ...                        \n",
       "58    Data/mel_spec_breath/exhall/9710964_Ch0_gray_m...\n",
       "59    Data/mel_spec_breath/exhall/9710964_Ch0_gray_m...\n",
       "60    Data/mel_spec_breath/exhall/9710964_Ch0_gray_m...\n",
       "61    Data/mel_spec_breath/exhall/9710964_Ch0_gray_m...\n",
       "62    Data/mel_spec_breath/exhall/9710964_Ch0_gray_m...\n",
       "Name: image_name, Length: 63, dtype: object"
      ]
     },
     "execution_count": 11,
     "metadata": {},
     "output_type": "execute_result"
    }
   ],
   "source": [
    "df_train['image_name']"
   ]
  },
  {
   "cell_type": "markdown",
   "id": "208c2ee6",
   "metadata": {},
   "source": [
    "## 画像データの一次元配列化\n",
    "一次元化の方法により精度が変わるのでデータに適した方法を選択する必要がある.  \n",
    "検出したい音の特徴が抽出できる方法は音の性質により変化する."
   ]
  },
  {
   "cell_type": "code",
   "execution_count": 12,
   "id": "da99ae1f",
   "metadata": {},
   "outputs": [
    {
     "name": "stdout",
     "output_type": "stream",
     "text": [
      "63\n"
     ]
    }
   ],
   "source": [
    "for i in df_train['image_name']:\n",
    "    im = cv2.imread(i)\n",
    "    im_gray = cv2.cvtColor(im, cv2.COLOR_BGR2GRAY)\n",
    "    #plt.imshow(im_gray)\n",
    "    #print(i)\n",
    "    #p=np.array(Image.open(i))\n",
    "    #im_array = np.var(im_gray,axis=1)#時間軸方向の分散で一次元化\n",
    "    im_array = np.mean(im_gray,axis=1)#時間軸方向の平均値で一次元化\n",
    "    #print(im_array.shape)\n",
    "    #im_array = np.ravel(im_gray)#各時間軸方向の連結で一次元化\n",
    "    #im_array = np.amax(im_gray,axis=1)#時間軸方向の最大値で一次元化\n",
    "    #im_array = np.median(im_gray,axis=1)#時間軸方向の中央値で一次元化\n",
    "    X[count,:] = im_array\n",
    "    y[count] = df_train['breath_phase'][count]\n",
    "    count+=1\n",
    "print(count)"
   ]
  },
  {
   "cell_type": "markdown",
   "id": "a443851c",
   "metadata": {},
   "source": [
    "### 一次元配列の確認と目的変数の整数変換"
   ]
  },
  {
   "cell_type": "code",
   "execution_count": 13,
   "id": "d3819dbd",
   "metadata": {},
   "outputs": [
    {
     "name": "stdout",
     "output_type": "stream",
     "text": [
      "(128,)\n",
      "[1 1 1 1 1 1 1 1 1 1 1 1 1 1 1 1 1 1 1 1 1 1 1 1 1 1 1 1 1 1 1 0 0 0 0 0 0\n",
      " 0 0 0 0 0 0 0 0 0 0 0 0 0 0 0 0 0 0 0 0 0 0 0 0 0 0]\n"
     ]
    }
   ],
   "source": [
    "print(im_array.shape)\n",
    "y = y.astype(np.int64)\n",
    "print(y)"
   ]
  },
  {
   "cell_type": "code",
   "execution_count": 14,
   "id": "acfcdab1",
   "metadata": {},
   "outputs": [
    {
     "data": {
      "text/plain": [
       "1.2121212121212122"
      ]
     },
     "execution_count": 14,
     "metadata": {},
     "output_type": "execute_result"
    }
   ],
   "source": [
    "(20/1584)*96"
   ]
  },
  {
   "cell_type": "code",
   "execution_count": 15,
   "id": "506ce9fb",
   "metadata": {},
   "outputs": [
    {
     "data": {
      "text/plain": [
       "0.10101010101010101"
      ]
     },
     "execution_count": 15,
     "metadata": {},
     "output_type": "execute_result"
    }
   ],
   "source": [
    "(20/1584)*8"
   ]
  },
  {
   "cell_type": "code",
   "execution_count": 16,
   "id": "3df4ada2",
   "metadata": {},
   "outputs": [
    {
     "name": "stdout",
     "output_type": "stream",
     "text": [
      "186\n"
     ]
    },
    {
     "data": {
      "text/plain": [
       "'\\ncount=0\\nfor i in range(split_num):\\n    im = test_gray_2[:,i*hop_range:i*hop_range+cut_size]\\n    #p=np.array(Image.open(i))\\n    #im_array = np.var(im,axis=1)#時間軸方向の分散で一次元化\\n    im_array = np.mean(im,axis=1)#時間軸方向の平均値で一次元化\\n    #print(im_array.shape)\\n    #im_array = np.ravel(im)#各時間軸方向の連結で一次元化\\n    #im_array = np.amax(im,axis=1)#時間軸方向の最大値で一次元化\\n    X_test_2[count,:] = im_array\\n    count+=1\\nprint(i)\\n'"
      ]
     },
     "execution_count": 16,
     "metadata": {},
     "output_type": "execute_result"
    }
   ],
   "source": [
    "count=0\n",
    "cut_size = 96\n",
    "hop_range = 8\n",
    "\n",
    "for i in range(split_num):\n",
    "    im = test_gray_1[:,i*hop_range:i*hop_range+cut_size]\n",
    "    #p=np.array(Image.open(i))\n",
    "    #im_array = np.var(im,axis=1)#時間軸方向の分散で一次元化\n",
    "    im_array = np.mean(im,axis=1)#時間軸方向の平均値で一次元化\n",
    "    #print(im_array.shape)\n",
    "    #im_array = np.ravel(im)#各時間軸方向の連結で一次元化\n",
    "    #im_array = np.amax(im,axis=1)#時間軸方向の最大値で一次元化\n",
    "    #im_array = np.median(im_gray,axis=1)#時間軸方向の中央値で一次元化\n",
    "    X_test_1[count,:] = im_array\n",
    "    count+=1\n",
    "print(i)   \n",
    "\n",
    "'''\n",
    "count=0\n",
    "for i in range(split_num):\n",
    "    im = test_gray_2[:,i*hop_range:i*hop_range+cut_size]\n",
    "    #p=np.array(Image.open(i))\n",
    "    #im_array = np.var(im,axis=1)#時間軸方向の分散で一次元化\n",
    "    im_array = np.mean(im,axis=1)#時間軸方向の平均値で一次元化\n",
    "    #print(im_array.shape)\n",
    "    #im_array = np.ravel(im)#各時間軸方向の連結で一次元化\n",
    "    #im_array = np.amax(im,axis=1)#時間軸方向の最大値で一次元化\n",
    "    X_test_2[count,:] = im_array\n",
    "    count+=1\n",
    "print(i)\n",
    "'''"
   ]
  },
  {
   "cell_type": "code",
   "execution_count": 17,
   "id": "45e4e58b",
   "metadata": {},
   "outputs": [
    {
     "data": {
      "text/plain": [
       "1584"
      ]
     },
     "execution_count": 17,
     "metadata": {},
     "output_type": "execute_result"
    }
   ],
   "source": [
    "i*hop_range+cut_size"
   ]
  },
  {
   "cell_type": "code",
   "execution_count": 18,
   "id": "7530d2aa",
   "metadata": {},
   "outputs": [
    {
     "data": {
      "text/plain": [
       "array([[ 19.88541667,  20.34375   ,  23.01041667, ..., 132.5625    ,\n",
       "        142.22916667, 234.27083333],\n",
       "       [ 16.67708333,  17.15625   ,  19.61458333, ..., 130.32291667,\n",
       "        142.76041667, 234.51041667],\n",
       "       [ 16.59375   ,  17.30208333,  20.28125   , ..., 129.54166667,\n",
       "        143.05208333, 234.60416667],\n",
       "       ...,\n",
       "       [  0.        ,   0.        ,   0.        , ...,   0.        ,\n",
       "          0.        ,   0.        ],\n",
       "       [  0.        ,   0.        ,   0.        , ...,   0.        ,\n",
       "          0.        ,   0.        ],\n",
       "       [  0.        ,   0.        ,   0.        , ...,   0.        ,\n",
       "          0.        ,   0.        ]])"
      ]
     },
     "execution_count": 18,
     "metadata": {},
     "output_type": "execute_result"
    }
   ],
   "source": [
    "X_test_1"
   ]
  },
  {
   "cell_type": "code",
   "execution_count": 19,
   "id": "b7a41914",
   "metadata": {},
   "outputs": [
    {
     "data": {
      "text/plain": [
       "(187, 128)"
      ]
     },
     "execution_count": 19,
     "metadata": {},
     "output_type": "execute_result"
    }
   ],
   "source": [
    "X_test_1.shape"
   ]
  },
  {
   "cell_type": "code",
   "execution_count": 20,
   "id": "17224703",
   "metadata": {},
   "outputs": [],
   "source": [
    "df_X = pd.DataFrame(X)\n",
    "df_test_1 = pd.DataFrame(X_test_1)\n",
    "#df_test_2 = pd.DataFrame(X_test_2)\n",
    "#df_X"
   ]
  },
  {
   "cell_type": "markdown",
   "id": "7ca8f998",
   "metadata": {},
   "source": [
    "## 各ラベルの比率を表示\n",
    "非捻発音：0  \n",
    "捻発音：1"
   ]
  },
  {
   "cell_type": "code",
   "execution_count": 21,
   "id": "42a51d2b",
   "metadata": {},
   "outputs": [
    {
     "data": {
      "text/plain": [
       "0    32\n",
       "1    31\n",
       "Name: breath_phase, dtype: int64"
      ]
     },
     "execution_count": 21,
     "metadata": {},
     "output_type": "execute_result"
    }
   ],
   "source": [
    "df_train[\"breath_phase\"].value_counts()"
   ]
  },
  {
   "cell_type": "markdown",
   "id": "ec9c39bf",
   "metadata": {},
   "source": [
    "## ラベルの比率を揃えるためのアンダーサンプリング"
   ]
  },
  {
   "cell_type": "code",
   "execution_count": 22,
   "id": "d8ed4e73",
   "metadata": {},
   "outputs": [
    {
     "data": {
      "text/plain": [
       "'\\nfrom imblearn.under_sampling import RandomUnderSampler\\nneg_count_train = df_train[\"breath_phase\"].value_counts()[1]\\nstrategy = {0:neg_count_train, 1:neg_count_train}\\nrus = RandomUnderSampler(random_state=2, sampling_strategy=strategy)\\nX_res, y_res = rus.fit_resample(X,y)\\nprint(\"サンプリング後のデータ数:\"+str(len(X_res)))\\n'"
      ]
     },
     "execution_count": 22,
     "metadata": {},
     "output_type": "execute_result"
    }
   ],
   "source": [
    "'''\n",
    "from imblearn.under_sampling import RandomUnderSampler\n",
    "neg_count_train = df_train[\"breath_phase\"].value_counts()[1]\n",
    "strategy = {0:neg_count_train, 1:neg_count_train}\n",
    "rus = RandomUnderSampler(random_state=2, sampling_strategy=strategy)\n",
    "X_res, y_res = rus.fit_resample(X,y)\n",
    "print(\"サンプリング後のデータ数:\"+str(len(X_res)))\n",
    "'''"
   ]
  },
  {
   "cell_type": "markdown",
   "id": "cb0eb3a3",
   "metadata": {},
   "source": [
    "## 訓練データと検証データへの分割"
   ]
  },
  {
   "cell_type": "code",
   "execution_count": 23,
   "id": "d8b51872",
   "metadata": {},
   "outputs": [],
   "source": [
    "X_train, X_eval, y_train, y_eval = train_test_split(df_X, y, test_size=0.20, stratify=y, random_state=2)\n",
    "#X_train, X_eval, y_train, y_eval = train_test_split(feature[:,0:20], y, test_size=0.3, stratify=y, random_state=3)\n",
    "#X_train, X_eval, y_train, y_eval = train_test_split(X_res, y_res, test_size=0.2, stratify=y_res, random_state=0)"
   ]
  },
  {
   "cell_type": "markdown",
   "id": "43c4b63e",
   "metadata": {},
   "source": [
    "## XGboostモデルの作成(モデルの超パラメータはここで設定)"
   ]
  },
  {
   "cell_type": "code",
   "execution_count": 24,
   "id": "87fddc8b",
   "metadata": {},
   "outputs": [],
   "source": [
    "fit_params ={'verbose':True,\n",
    "            'early_stopping_rounds':10,\n",
    "            'eval_metric':'logloss',\n",
    "            'eval_set':[(X_eval, y_eval)]\n",
    "            }\n",
    "model = XGBClassifier(eta = 0.01,max_depth=3,min_child_weigh=10,booster='gbtree',objective='binary:logistic',use_label_encoder=False,random_state=0)"
   ]
  },
  {
   "cell_type": "markdown",
   "id": "7c588de7",
   "metadata": {},
   "source": [
    "## 交差検証による簡易な精度確認\n",
    "※メモリを消費が大きいので注意"
   ]
  },
  {
   "cell_type": "code",
   "execution_count": 25,
   "id": "e3b27389",
   "metadata": {},
   "outputs": [
    {
     "data": {
      "text/plain": [
       "\"\\nfrom sklearn.model_selection import KFold\\nfrom sklearn.model_selection import StratifiedKFold\\nfrom sklearn.model_selection import cross_val_score\\n\\n\\ncv = StratifiedKFold(n_splits=5,shuffle=True, random_state=0)\\nscoring = 'accuracy'\\nscores = cross_val_score(model, X_train, y_train, cv=cv, scoring=scoring, n_jobs=-1, fit_params=fit_params)\\nprint(f'scores={scores}')\\nprint(f'average_score={np.mean(scores)}')\\n\""
      ]
     },
     "execution_count": 25,
     "metadata": {},
     "output_type": "execute_result"
    }
   ],
   "source": [
    "'''\n",
    "from sklearn.model_selection import KFold\n",
    "from sklearn.model_selection import StratifiedKFold\n",
    "from sklearn.model_selection import cross_val_score\n",
    "\n",
    "\n",
    "cv = StratifiedKFold(n_splits=5,shuffle=True, random_state=0)\n",
    "scoring = 'accuracy'\n",
    "scores = cross_val_score(model, X_train, y_train, cv=cv, scoring=scoring, n_jobs=-1, fit_params=fit_params)\n",
    "print(f'scores={scores}')\n",
    "print(f'average_score={np.mean(scores)}')\n",
    "'''"
   ]
  },
  {
   "cell_type": "markdown",
   "id": "ceb9f4e8",
   "metadata": {},
   "source": [
    "## 学習"
   ]
  },
  {
   "cell_type": "code",
   "execution_count": 26,
   "id": "9b81535b",
   "metadata": {},
   "outputs": [
    {
     "name": "stdout",
     "output_type": "stream",
     "text": [
      "[21:46:50] WARNING: /Users/runner/work/xgboost/xgboost/python-package/build/temp.macosx-10.9-x86_64-cpython-38/xgboost/src/learner.cc:767: \n",
      "Parameters: { \"min_child_weigh\" } are not used.\n",
      "\n",
      "[0]\tvalidation_0-logloss:0.68825\n",
      "[1]\tvalidation_0-logloss:0.68281\n",
      "[2]\tvalidation_0-logloss:0.67748\n",
      "[3]\tvalidation_0-logloss:0.67287\n",
      "[4]\tvalidation_0-logloss:0.66774\n",
      "[5]\tvalidation_0-logloss:0.66332\n",
      "[6]\tvalidation_0-logloss:0.65899\n",
      "[7]\tvalidation_0-logloss:0.65414\n",
      "[8]\tvalidation_0-logloss:0.64939\n",
      "[9]\tvalidation_0-logloss:0.64531\n",
      "[10]\tvalidation_0-logloss:0.64132\n",
      "[11]\tvalidation_0-logloss:0.63683\n",
      "[12]\tvalidation_0-logloss:0.63299\n",
      "[13]\tvalidation_0-logloss:0.62867\n",
      "[14]\tvalidation_0-logloss:0.62443\n",
      "[15]\tvalidation_0-logloss:0.62082\n",
      "[16]\tvalidation_0-logloss:0.61673\n",
      "[17]\tvalidation_0-logloss:0.61326\n",
      "[18]\tvalidation_0-logloss:0.60986\n",
      "[19]\tvalidation_0-logloss:0.60600\n",
      "[20]\tvalidation_0-logloss:0.60273\n",
      "[21]\tvalidation_0-logloss:0.59900\n",
      "[22]\tvalidation_0-logloss:0.59535\n",
      "[23]\tvalidation_0-logloss:0.59227\n",
      "[24]\tvalidation_0-logloss:0.58926\n",
      "[25]\tvalidation_0-logloss:0.58580\n",
      "[26]\tvalidation_0-logloss:0.58241\n",
      "[27]\tvalidation_0-logloss:0.57957\n",
      "[28]\tvalidation_0-logloss:0.57630\n",
      "[29]\tvalidation_0-logloss:0.57357\n",
      "[30]\tvalidation_0-logloss:0.57085\n",
      "[31]\tvalidation_0-logloss:0.56819\n",
      "[32]\tvalidation_0-logloss:0.56515\n",
      "[33]\tvalidation_0-logloss:0.56259\n",
      "[34]\tvalidation_0-logloss:0.55966\n",
      "[35]\tvalidation_0-logloss:0.55720\n",
      "[36]\tvalidation_0-logloss:0.55437\n",
      "[37]\tvalidation_0-logloss:0.55202\n",
      "[38]\tvalidation_0-logloss:0.54971\n",
      "[39]\tvalidation_0-logloss:0.54703\n",
      "[40]\tvalidation_0-logloss:0.54481\n",
      "[41]\tvalidation_0-logloss:0.54223\n",
      "[42]\tvalidation_0-logloss:0.54010\n",
      "[43]\tvalidation_0-logloss:0.53842\n",
      "[44]\tvalidation_0-logloss:0.53638\n",
      "[45]\tvalidation_0-logloss:0.53438\n",
      "[46]\tvalidation_0-logloss:0.53237\n",
      "[47]\tvalidation_0-logloss:0.53046\n",
      "[48]\tvalidation_0-logloss:0.52852\n",
      "[49]\tvalidation_0-logloss:0.52668\n",
      "[50]\tvalidation_0-logloss:0.52482\n",
      "[51]\tvalidation_0-logloss:0.52306\n",
      "[52]\tvalidation_0-logloss:0.52127\n",
      "[53]\tvalidation_0-logloss:0.51958\n",
      "[54]\tvalidation_0-logloss:0.51786\n",
      "[55]\tvalidation_0-logloss:0.51624\n",
      "[56]\tvalidation_0-logloss:0.51465\n",
      "[57]\tvalidation_0-logloss:0.51303\n",
      "[58]\tvalidation_0-logloss:0.51151\n",
      "[59]\tvalidation_0-logloss:0.50996\n",
      "[60]\tvalidation_0-logloss:0.50850\n",
      "[61]\tvalidation_0-logloss:0.50741\n",
      "[62]\tvalidation_0-logloss:0.50602\n",
      "[63]\tvalidation_0-logloss:0.50459\n",
      "[64]\tvalidation_0-logloss:0.50325\n",
      "[65]\tvalidation_0-logloss:0.50188\n",
      "[66]\tvalidation_0-logloss:0.50060\n",
      "[67]\tvalidation_0-logloss:0.49929\n",
      "[68]\tvalidation_0-logloss:0.49807\n",
      "[69]\tvalidation_0-logloss:0.49687\n",
      "[70]\tvalidation_0-logloss:0.49564\n",
      "[71]\tvalidation_0-logloss:0.49450\n",
      "[72]\tvalidation_0-logloss:0.49332\n",
      "[73]\tvalidation_0-logloss:0.49224\n",
      "[74]\tvalidation_0-logloss:0.49111\n",
      "[75]\tvalidation_0-logloss:0.49007\n",
      "[76]\tvalidation_0-logloss:0.48899\n",
      "[77]\tvalidation_0-logloss:0.48801\n",
      "[78]\tvalidation_0-logloss:0.48734\n",
      "[79]\tvalidation_0-logloss:0.48640\n",
      "[80]\tvalidation_0-logloss:0.48541\n",
      "[81]\tvalidation_0-logloss:0.48452\n",
      "[82]\tvalidation_0-logloss:0.48365\n",
      "[83]\tvalidation_0-logloss:0.48273\n",
      "[84]\tvalidation_0-logloss:0.48191\n",
      "[85]\tvalidation_0-logloss:0.48103\n",
      "[86]\tvalidation_0-logloss:0.48025\n",
      "[87]\tvalidation_0-logloss:0.47942\n",
      "[88]\tvalidation_0-logloss:0.47868\n",
      "[89]\tvalidation_0-logloss:0.47788\n",
      "[90]\tvalidation_0-logloss:0.47718\n",
      "[91]\tvalidation_0-logloss:0.47643\n",
      "[92]\tvalidation_0-logloss:0.47577\n",
      "[93]\tvalidation_0-logloss:0.47539\n",
      "[94]\tvalidation_0-logloss:0.47477\n",
      "[95]\tvalidation_0-logloss:0.47409\n",
      "[96]\tvalidation_0-logloss:0.47350\n",
      "[97]\tvalidation_0-logloss:0.47286\n",
      "[98]\tvalidation_0-logloss:0.47231\n",
      "[99]\tvalidation_0-logloss:0.47178\n",
      "CPU times: user 2.39 s, sys: 389 ms, total: 2.78 s\n",
      "Wall time: 594 ms\n"
     ]
    },
    {
     "data": {
      "text/html": [
       "<style>#sk-container-id-1 {color: black;background-color: white;}#sk-container-id-1 pre{padding: 0;}#sk-container-id-1 div.sk-toggleable {background-color: white;}#sk-container-id-1 label.sk-toggleable__label {cursor: pointer;display: block;width: 100%;margin-bottom: 0;padding: 0.3em;box-sizing: border-box;text-align: center;}#sk-container-id-1 label.sk-toggleable__label-arrow:before {content: \"▸\";float: left;margin-right: 0.25em;color: #696969;}#sk-container-id-1 label.sk-toggleable__label-arrow:hover:before {color: black;}#sk-container-id-1 div.sk-estimator:hover label.sk-toggleable__label-arrow:before {color: black;}#sk-container-id-1 div.sk-toggleable__content {max-height: 0;max-width: 0;overflow: hidden;text-align: left;background-color: #f0f8ff;}#sk-container-id-1 div.sk-toggleable__content pre {margin: 0.2em;color: black;border-radius: 0.25em;background-color: #f0f8ff;}#sk-container-id-1 input.sk-toggleable__control:checked~div.sk-toggleable__content {max-height: 200px;max-width: 100%;overflow: auto;}#sk-container-id-1 input.sk-toggleable__control:checked~label.sk-toggleable__label-arrow:before {content: \"▾\";}#sk-container-id-1 div.sk-estimator input.sk-toggleable__control:checked~label.sk-toggleable__label {background-color: #d4ebff;}#sk-container-id-1 div.sk-label input.sk-toggleable__control:checked~label.sk-toggleable__label {background-color: #d4ebff;}#sk-container-id-1 input.sk-hidden--visually {border: 0;clip: rect(1px 1px 1px 1px);clip: rect(1px, 1px, 1px, 1px);height: 1px;margin: -1px;overflow: hidden;padding: 0;position: absolute;width: 1px;}#sk-container-id-1 div.sk-estimator {font-family: monospace;background-color: #f0f8ff;border: 1px dotted black;border-radius: 0.25em;box-sizing: border-box;margin-bottom: 0.5em;}#sk-container-id-1 div.sk-estimator:hover {background-color: #d4ebff;}#sk-container-id-1 div.sk-parallel-item::after {content: \"\";width: 100%;border-bottom: 1px solid gray;flex-grow: 1;}#sk-container-id-1 div.sk-label:hover label.sk-toggleable__label {background-color: #d4ebff;}#sk-container-id-1 div.sk-serial::before {content: \"\";position: absolute;border-left: 1px solid gray;box-sizing: border-box;top: 0;bottom: 0;left: 50%;z-index: 0;}#sk-container-id-1 div.sk-serial {display: flex;flex-direction: column;align-items: center;background-color: white;padding-right: 0.2em;padding-left: 0.2em;position: relative;}#sk-container-id-1 div.sk-item {position: relative;z-index: 1;}#sk-container-id-1 div.sk-parallel {display: flex;align-items: stretch;justify-content: center;background-color: white;position: relative;}#sk-container-id-1 div.sk-item::before, #sk-container-id-1 div.sk-parallel-item::before {content: \"\";position: absolute;border-left: 1px solid gray;box-sizing: border-box;top: 0;bottom: 0;left: 50%;z-index: -1;}#sk-container-id-1 div.sk-parallel-item {display: flex;flex-direction: column;z-index: 1;position: relative;background-color: white;}#sk-container-id-1 div.sk-parallel-item:first-child::after {align-self: flex-end;width: 50%;}#sk-container-id-1 div.sk-parallel-item:last-child::after {align-self: flex-start;width: 50%;}#sk-container-id-1 div.sk-parallel-item:only-child::after {width: 0;}#sk-container-id-1 div.sk-dashed-wrapped {border: 1px dashed gray;margin: 0 0.4em 0.5em 0.4em;box-sizing: border-box;padding-bottom: 0.4em;background-color: white;}#sk-container-id-1 div.sk-label label {font-family: monospace;font-weight: bold;display: inline-block;line-height: 1.2em;}#sk-container-id-1 div.sk-label-container {text-align: center;}#sk-container-id-1 div.sk-container {/* jupyter's `normalize.less` sets `[hidden] { display: none; }` but bootstrap.min.css set `[hidden] { display: none !important; }` so we also need the `!important` here to be able to override the default hidden behavior on the sphinx rendered scikit-learn.org. See: https://github.com/scikit-learn/scikit-learn/issues/21755 */display: inline-block !important;position: relative;}#sk-container-id-1 div.sk-text-repr-fallback {display: none;}</style><div id=\"sk-container-id-1\" class=\"sk-top-container\"><div class=\"sk-text-repr-fallback\"><pre>XGBClassifier(base_score=None, booster=&#x27;gbtree&#x27;, callbacks=None,\n",
       "              colsample_bylevel=None, colsample_bynode=None,\n",
       "              colsample_bytree=None, early_stopping_rounds=None,\n",
       "              enable_categorical=False, eta=0.01, eval_metric=None,\n",
       "              feature_types=None, gamma=None, gpu_id=None, grow_policy=None,\n",
       "              importance_type=None, interaction_constraints=None,\n",
       "              learning_rate=None, max_bin=None, max_cat_threshold=None,\n",
       "              max_cat_to_onehot=None, max_delta_step=None, max_depth=3,\n",
       "              max_leaves=None, min_child_weigh=10, min_child_weight=None,\n",
       "              missing=nan, monotone_constraints=None, n_estimators=100,\n",
       "              n_jobs=None, num_parallel_tree=None, ...)</pre><b>In a Jupyter environment, please rerun this cell to show the HTML representation or trust the notebook. <br />On GitHub, the HTML representation is unable to render, please try loading this page with nbviewer.org.</b></div><div class=\"sk-container\" hidden><div class=\"sk-item\"><div class=\"sk-estimator sk-toggleable\"><input class=\"sk-toggleable__control sk-hidden--visually\" id=\"sk-estimator-id-1\" type=\"checkbox\" checked><label for=\"sk-estimator-id-1\" class=\"sk-toggleable__label sk-toggleable__label-arrow\">XGBClassifier</label><div class=\"sk-toggleable__content\"><pre>XGBClassifier(base_score=None, booster=&#x27;gbtree&#x27;, callbacks=None,\n",
       "              colsample_bylevel=None, colsample_bynode=None,\n",
       "              colsample_bytree=None, early_stopping_rounds=None,\n",
       "              enable_categorical=False, eta=0.01, eval_metric=None,\n",
       "              feature_types=None, gamma=None, gpu_id=None, grow_policy=None,\n",
       "              importance_type=None, interaction_constraints=None,\n",
       "              learning_rate=None, max_bin=None, max_cat_threshold=None,\n",
       "              max_cat_to_onehot=None, max_delta_step=None, max_depth=3,\n",
       "              max_leaves=None, min_child_weigh=10, min_child_weight=None,\n",
       "              missing=nan, monotone_constraints=None, n_estimators=100,\n",
       "              n_jobs=None, num_parallel_tree=None, ...)</pre></div></div></div></div></div>"
      ],
      "text/plain": [
       "XGBClassifier(base_score=None, booster='gbtree', callbacks=None,\n",
       "              colsample_bylevel=None, colsample_bynode=None,\n",
       "              colsample_bytree=None, early_stopping_rounds=None,\n",
       "              enable_categorical=False, eta=0.01, eval_metric=None,\n",
       "              feature_types=None, gamma=None, gpu_id=None, grow_policy=None,\n",
       "              importance_type=None, interaction_constraints=None,\n",
       "              learning_rate=None, max_bin=None, max_cat_threshold=None,\n",
       "              max_cat_to_onehot=None, max_delta_step=None, max_depth=3,\n",
       "              max_leaves=None, min_child_weigh=10, min_child_weight=None,\n",
       "              missing=nan, monotone_constraints=None, n_estimators=100,\n",
       "              n_jobs=None, num_parallel_tree=None, ...)"
      ]
     },
     "execution_count": 26,
     "metadata": {},
     "output_type": "execute_result"
    }
   ],
   "source": [
    "%%time\n",
    "eval_set = [(X_eval, y_eval)]\n",
    "model.fit(X_train, y_train, early_stopping_rounds=100, eval_set=eval_set, verbose=True)#,sample_weight=weight_train"
   ]
  },
  {
   "cell_type": "markdown",
   "id": "243ff061",
   "metadata": {},
   "source": [
    "## 変数重要度の出力\n",
    "上位100変数  \n",
    "f1=周波数1Hz"
   ]
  },
  {
   "cell_type": "code",
   "execution_count": 27,
   "id": "cbc1741e",
   "metadata": {},
   "outputs": [
    {
     "data": {
      "text/plain": [
       "<AxesSubplot: title={'center': 'Feature importance'}, xlabel='F score', ylabel='Features'>"
      ]
     },
     "execution_count": 27,
     "metadata": {},
     "output_type": "execute_result"
    },
    {
     "data": {
      "image/png": "[encoded data removed]",
      "text/plain": [
       "<Figure size 640x480 with 1 Axes>"
      ]
     },
     "metadata": {},
     "output_type": "display_data"
    }
   ],
   "source": [
    "fig, ax = plt.subplots()#figsize=(28, 80)\n",
    "xgb.plot_importance(model,ax=ax,max_num_features=10)"
   ]
  },
  {
   "cell_type": "markdown",
   "id": "b62631b7",
   "metadata": {},
   "source": [
    "## 訓練したモデルを用いてテストデータと可視化用テストデータを予測"
   ]
  },
  {
   "cell_type": "code",
   "execution_count": 28,
   "id": "0e9bd69d",
   "metadata": {},
   "outputs": [
    {
     "data": {
      "image/png": "[encoded data removed]",
      "text/plain": [
       "<Figure size 2800x800 with 1 Axes>"
      ]
     },
     "metadata": {},
     "output_type": "display_data"
    }
   ],
   "source": [
    "from sklearn import metrics\n",
    "#y_pred = model.predict_proba(X_test)\n",
    "#y_pred_max = np.argmax(y_pred, axis=1)\n",
    "y_pred_1 = model.predict_proba(X_test_1)\n",
    "y_pred_1 = np.argmax(y_pred_1, axis=1)\n",
    "#print(\"Train :\", model.score(X_train, y_train))\n",
    "#print(\"Test :\", model.score(X_t, y_t))\n",
    "fig, ax = plt.subplots(figsize=(28, 8))\n",
    "plt.plot(y_pred_1)\n",
    "ax.set_xticks(np.arange(0, 187, 4))\n",
    "plt.show()"
   ]
  },
  {
   "cell_type": "markdown",
   "id": "5aa8df8e",
   "metadata": {},
   "source": [
    "## 吸気時間算出"
   ]
  },
  {
   "cell_type": "code",
   "execution_count": 29,
   "id": "952c767a",
   "metadata": {},
   "outputs": [
    {
     "name": "stdout",
     "output_type": "stream",
     "text": [
      "[10.303030303030303, 13.333333333333334]\n",
      "[102, 120]\n"
     ]
    }
   ],
   "source": [
    "inhall_time_1 = []\n",
    "inhall_index_1 = []\n",
    "\n",
    "if y_pred_1[0]==1:\n",
    "    inhall_time_1.append(0)\n",
    "    inhall_index_1.append(0)\n",
    "    \n",
    "for i in range(len(y_pred_1)-1):\n",
    "    if y_pred_1[i]-y_pred_1[i+1]==1:\n",
    "        inhall_time_1.append(i*8*(20/1584)+96*(20/1584))\n",
    "        inhall_index_1.append(i)\n",
    "    elif y_pred_1[i]-y_pred_1[i+1]==-1:\n",
    "        inhall_time_1.append(i*8*(20/1584))\n",
    "        inhall_index_1.append(i)\n",
    "\n",
    "print(inhall_time_1)\n",
    "print(inhall_index_1)"
   ]
  },
  {
   "cell_type": "code",
   "execution_count": 30,
   "id": "268f495a",
   "metadata": {},
   "outputs": [
    {
     "data": {
      "text/plain": [
       "'\\ny_pred_2 = model.predict_proba(X_test_2)\\ny_pred_2 = np.argmax(y_pred_2, axis=1)\\nfig, ax = plt.subplots(figsize=(28, 8))\\nplt.plot(y_pred_2)\\n#ax.set_xticks(np.arange(0, 172, ))\\nplt.show()\\n'"
      ]
     },
     "execution_count": 30,
     "metadata": {},
     "output_type": "execute_result"
    }
   ],
   "source": [
    "'''\n",
    "y_pred_2 = model.predict_proba(X_test_2)\n",
    "y_pred_2 = np.argmax(y_pred_2, axis=1)\n",
    "fig, ax = plt.subplots(figsize=(28, 8))\n",
    "plt.plot(y_pred_2)\n",
    "#ax.set_xticks(np.arange(0, 172, ))\n",
    "plt.show()\n",
    "'''"
   ]
  },
  {
   "cell_type": "markdown",
   "id": "fb71316a",
   "metadata": {},
   "source": [
    "## モデルの精度評価"
   ]
  },
  {
   "cell_type": "code",
   "execution_count": 31,
   "id": "2c9d0aaf",
   "metadata": {},
   "outputs": [],
   "source": [
    "from sklearn.metrics import accuracy_score\n",
    "from sklearn.metrics import f1_score\n",
    "from sklearn.metrics import classification_report"
   ]
  },
  {
   "cell_type": "markdown",
   "id": "32a5c76f",
   "metadata": {},
   "source": [
    "### テストデータの精度評価指標（適合率,再現率,F1スコア,正解率） "
   ]
  },
  {
   "cell_type": "code",
   "execution_count": null,
   "id": "eefcb978",
   "metadata": {},
   "outputs": [],
   "source": [
    "'''\n",
    "c_rep = classification_report(y_t, y_pred_max_t)\n",
    "print(c_rep)\n",
    "'''"
   ]
  },
  {
   "cell_type": "markdown",
   "id": "6e44bae4",
   "metadata": {},
   "source": [
    "## 11/1\n",
    "## 新規間質性肺炎患者の呼吸相識別実施\n",
    "###  聴診器試作機から得た6件の新しい健常者データによる肺音のみでモデルを作成し精度調査\n",
    "\n",
    "間質性肺炎患者1件のテストデータを確認したところ、吸気相をほぼ確認できていないことが確認された  \n",
    "本調査では5件のデータでのみ学習モデルの訓練を実施している  \n",
    "データ数が極端に少なすぎるため今後はデータ数を増やすデータ拡張や追加実験により、精度がどのように変化するのかを調査する  "
   ]
  },
  {
   "cell_type": "code",
   "execution_count": null,
   "id": "54607fa0",
   "metadata": {},
   "outputs": [],
   "source": []
  }
 ],
 "metadata": {
  "kernelspec": {
   "display_name": "Python (sys1)",
   "language": "python",
   "name": "sys1"
  },
  "language_info": {
   "codemirror_mode": {
    "name": "ipython",
    "version": 3
   },
   "file_extension": ".py",
   "mimetype": "text/x-python",
   "name": "python",
   "nbconvert_exporter": "python",
   "pygments_lexer": "ipython3",
   "version": "3.9.6"
  }
 },
 "nbformat": 4,
 "nbformat_minor": 5
}
