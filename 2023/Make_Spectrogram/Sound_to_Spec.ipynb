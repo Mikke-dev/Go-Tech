{
 "cells": [
  {
   "cell_type": "markdown",
   "id": "e0c181b0",
   "metadata": {},
   "source": [
    "# ライブラリのインポート"
   ]
  },
  {
   "cell_type": "code",
   "execution_count": null,
   "id": "c620b702",
   "metadata": {},
   "outputs": [],
   "source": [
    "import IPython.display as ipd\n",
    "from scipy.io import wavfile\n",
    "import os\n",
    "import numpy as np\n",
    "from scipy import signal\n",
    "import matplotlib.pyplot as plt\n",
    "import seaborn as sns\n",
    "%matplotlib inline\n",
    "import librosa\n",
    "import librosa.display \n",
    "import sklearn\n",
    "from sklearn.preprocessing import MinMaxScaler"
   ]
  },
  {
   "cell_type": "code",
   "execution_count": null,
   "id": "f23492b4",
   "metadata": {},
   "outputs": [],
   "source": [
    "wav_list = [\"2023_proto_crack\",\"2023_proto_normal\",\"2023_sa_crack\",\"2023_sa_non_wheez\",\"2023_sa_normal\",\"2023_sa_wheez\"]"
   ]
  },
  {
   "cell_type": "code",
   "execution_count": null,
   "id": "2969907b",
   "metadata": {},
   "outputs": [],
   "source": [
    "# 音声ファイルのパスを指定します。\n",
    "train_audio_path = '../Sound_Data/'+wav_list[1]+'/'\n",
    "csv_files = os.listdir(train_audio_path)\n",
    "csv_files = sorted(csv_files)\n",
    "print(csv_files)"
   ]
  },
  {
   "cell_type": "markdown",
   "id": "6b7ab6fc",
   "metadata": {},
   "source": [
    "## Scipyによる音声ファイル読み込み"
   ]
  },
  {
   "cell_type": "code",
   "execution_count": null,
   "id": "5de17402",
   "metadata": {},
   "outputs": [],
   "source": [
    "# 初期設定値\n",
    "stetho = \"Prototype\"#\"Sound_Analyzer\"\n",
    "filename = csv_files[4] #wavファイル名\n",
    "disease = wav_list[1] #受診者の肺音の症状\n",
    "save_flag = 1 #スペクトログラム画像の保存　0:保存しない　1:保存\n",
    "axis = 0 #軸とサイズ　0:軸なし、サイズ(1584, 256)　1:軸あり、サイズ比(24, 4)　2:軸なし、サイズデフォルト　3:軸あり、サイズデフォルト\n",
    "name = filename[0:-4] #+\"_part3\" #拡張子抜きファイル名\n",
    "\n",
    "# 音声データの読み込み\n",
    "# sample_rate:サンプリング周波数, sample:サンプルwavデータ\n",
    "sample_rate, samples = wavfile.read(train_audio_path + filename)\n",
    "# Player 実行 モノラルではなくステレオなので配列の向きの違いから転置の必要あり\n",
    "ipd.Audio(samples.T, rate=sample_rate)"
   ]
  },
  {
   "cell_type": "code",
   "execution_count": null,
   "id": "cea7068e",
   "metadata": {},
   "outputs": [],
   "source": [
    "N = samples.shape[0] # 標本データ数(要素数)を返す\n",
    "L = len(samples)/sample_rate # 時間(長さ)の算出\n",
    "padding_list = (sample_rate*20-N)*[0]\n",
    "plot_time = np.linspace(0, L, N) # グラフ描画のための時間軸の生成\n",
    "\n",
    "\n",
    "print(\"file_name:\\t\"+str(filename))\n",
    "print(\"disease:\\t\"+str(disease))\n",
    "print(\"name:\\t\\t\"+str(name))\n",
    "print(\"サンプリング周波数:\"+str(sample_rate))\n",
    "print(\"標本数:\\t\\t\"+str(N))\n",
    "print(\"総時間:\\t\\t\"+str(L))\n",
    "print(\"データの型:\\t\"+str(samples.dtype))\n",
    "print(\"セグメント:\\t\"+str(L/132))\n",
    "print(\"チャンネル数:\\t\"+str(samples.ndim))\n",
    "print(\"追加の標本数:\\t\"+str(len(padding_list)))\n",
    "print(\"20秒の標本数:\\t\"+str(sample_rate*20))\n",
    "\n",
    "\n",
    "\n",
    "# 見附実験用\n",
    "#print(L/132.0)\n",
    "#print((L/132.0)*8)\n",
    "#print(((L/132.0)*8)+(L/132.0))"
   ]
  },
  {
   "cell_type": "markdown",
   "id": "95ce8937",
   "metadata": {},
   "source": [
    "## WAVファイルの視覚化　：ステレオで両チャンネルを重ね表示"
   ]
  },
  {
   "cell_type": "code",
   "execution_count": null,
   "id": "00bdde29",
   "metadata": {},
   "outputs": [],
   "source": [
    "# wav_plot(ファイル名, 音声データの時間軸, 音声データ, 軸の種類　0:時間軸 1:サンプル軸):\n",
    "def wav_plot(filename, plot_time, samples, s_num):\n",
    "    \n",
    "    # 音声の波形 (sound wave)を視覚化します。\n",
    "    fig = plt.figure(figsize=(18, 4))\n",
    "    ax1 = fig.add_subplot(111)\n",
    "    ax1.set_title('Raw wave of ' + filename)\n",
    "    ax1.set_ylabel('Amplitude')\n",
    "    \n",
    "    if s_num == 0:\n",
    "        ax1.plot(plot_time, samples)\n",
    "    else:\n",
    "        ax1.plot(samples)\n",
    "        \n",
    "    #ax1.set_ylim([-10000,10000])\n",
    "    #plt.savefig(\"wave_plot/normal/\"+filename+\".png\")"
   ]
  },
  {
   "cell_type": "code",
   "execution_count": null,
   "id": "1561ade5",
   "metadata": {},
   "outputs": [],
   "source": [
    "#横軸　時間　WAVプロット\n",
    "wav_plot(filename, plot_time, samples, 0)"
   ]
  },
  {
   "cell_type": "markdown",
   "id": "e17f1f9e",
   "metadata": {},
   "source": [
    "## ステレオ信号をモノラル信号に変換\n",
    "2chの平均をとるか・分散の大きい信号を選ぶか"
   ]
  },
  {
   "cell_type": "code",
   "execution_count": null,
   "id": "446debb7",
   "metadata": {},
   "outputs": [],
   "source": [
    "def ste_to_mono(samples=[], mono='var'):\n",
    "    \n",
    "    # 平均\n",
    "    if mono=='mean':\n",
    "        mono_samples = np.mean(samples, axis=1) # ステレオを平均してモノラルに変換\n",
    "        \n",
    "        \n",
    "    # 分散の大きい信号\n",
    "    elif mono=='var' and samples.ndim==2:\n",
    "        left_samples = samples[:,0].copy()\n",
    "        right_samples = samples[:,1].copy()\n",
    "        left_var=left_samples.var()\n",
    "        right_var=right_samples.var()\n",
    "        \n",
    "        if left_var>right_var:\n",
    "            mono_samples=left_samples\n",
    "        elif left_var<=right_var:\n",
    "            mono_samples=right_samples\n",
    "        else:\n",
    "            mono_samples=0\n",
    "    else:\n",
    "        mono_samples=samples\n",
    "            \n",
    "    m_N = samples.shape[0] # 標本数(要素数)を返す\n",
    "    m_L = N/sample_rate # 時間(長さ)の算出\n",
    "        \n",
    "        \n",
    "    return mono_samples,m_N,m_L"
   ]
  },
  {
   "cell_type": "markdown",
   "id": "f36b82a7",
   "metadata": {},
   "source": [
    "## モノラルに変換した波形の表示"
   ]
  },
  {
   "cell_type": "code",
   "execution_count": null,
   "id": "d3abb88c",
   "metadata": {},
   "outputs": [],
   "source": [
    "mono_samples,m_N,m_L = ste_to_mono(samples=samples, mono='var')\n",
    "#横軸　時間　WAVプロット\n",
    "wav_plot(filename, plot_time, mono_samples, 0)"
   ]
  },
  {
   "cell_type": "markdown",
   "id": "cae13710",
   "metadata": {},
   "source": [
    "## low-passフィルタ"
   ]
  },
  {
   "cell_type": "code",
   "execution_count": null,
   "id": "9c8c89dd",
   "metadata": {},
   "outputs": [],
   "source": [
    "m_samples = mono_samples\n",
    "m_samples = np.concatenate([m_samples, np.array(padding_list)])\n",
    "\n",
    "\n",
    "#m_samples = m_samples[400000:600000]\n",
    "m_samples.shape"
   ]
  },
  {
   "cell_type": "markdown",
   "id": "c6cff976",
   "metadata": {},
   "source": [
    "# スペクトログラム変換"
   ]
  },
  {
   "cell_type": "code",
   "execution_count": null,
   "id": "959a1de2",
   "metadata": {},
   "outputs": [],
   "source": [
    "# 短時間フーリエ変換による通常のスペクトログラム\n",
    "def specgram(audio, sample_rate, window_size=20,step_size=10, eps=1e-10):#スペクトグラム生成\n",
    "    nperseg = int(round(window_size * sample_rate / 1e3))\n",
    "    noverlap = int(round(step_size * sample_rate / 1e3))\n",
    "    freqs, times, spec = signal.spectrogram(audio, fs=sample_rate,\n",
    "                                            window='hann',nperseg=nperseg,\n",
    "                                            noverlap=noverlap,\n",
    "                                            detrend=False)\n",
    "    return freqs, times, spec.T.astype(np.float32)\n",
    "\n",
    "# 短時間フーリエ変換結果に対数を取ったlog-スペクトログラム\n",
    "def log_specgram(audio, sample_rate, window_size=20, step_size=10, esp=1e-10):\n",
    "    nperseg = int(round(window_size * sample_rate / 1e3))\n",
    "    noverlap = int(round(step_size * sample_rate / 1e3))\n",
    "    freqs, times, spec = signal.spectrogram(audio, fs=sample_rate,\n",
    "                                            window='hann',nperseg=nperseg, #窓関数はHANNING窓\n",
    "                                            noverlap=noverlap,\n",
    "                                            detrend=False)\n",
    "    print(esp)\n",
    "    return freqs, times, np.log(spec.T.astype(np.float32) + esp)\n",
    "\n",
    "# スペクトログラムの描画\n",
    "def spec_show(freqs, times, spec, ticks, axis, save, save_flag=0):\n",
    "    \n",
    "    #軸の描画\n",
    "    if axis == 0:#軸なし、サイズ(1584, 256)\n",
    "        fig = plt.figure(dpi=1,figsize=(1584, 256))\n",
    "        ax1 = fig.add_subplot(111)\n",
    "        ax1.axis(\"off\")\n",
    "        fig.tight_layout()\n",
    "        fig.subplots_adjust(left=0,right=1,bottom=0,top=1)\n",
    "        ax1.imshow(spec.T, aspect='auto', origin='lower', extent=[times.min(), times.max(), freqs.min(), freqs.max()])\n",
    "    elif axis == 1:#軸あり、サイズ(24, 4)\n",
    "        fig = plt.figure(figsize=(24, 4))\n",
    "        ax1 = fig.add_subplot(111)\n",
    "        ax1.imshow(spec.T, aspect='auto', origin='lower', extent=[times.min(), times.max(), freqs.min(), freqs.max()])\n",
    "        ax1.set_yticks(freqs[::10])\n",
    "        ax1.set_xticks(times[::50])\n",
    "        ax1.set_title('spectrogram of ' + filename)\n",
    "        ax1.set_ylabel('Frequency (Hz)')\n",
    "        ax1.set_xlabel('Time (s)')\n",
    "    elif axis == 2:#軸なし、サイズデフォルト\n",
    "        fig = plt.figure()\n",
    "        ax1 = fig.add_subplot(111)\n",
    "        ax1.axis(\"off\")\n",
    "        fig.tight_layout()\n",
    "        fig.subplots_adjust(left=0,right=1,bottom=0,top=1)\n",
    "        ax1.imshow(spec.T, aspect='auto', origin='lower', extent=[times.min(), times.max(), freqs.min(), freqs.max()])\n",
    "    elif axis == 3:#軸あり、サイズデフォルト\n",
    "        fig = plt.figure()\n",
    "        ax1 = fig.add_subplot(111)\n",
    "        ax1.imshow(spec.T, aspect='auto', origin='lower', extent=[times.min(), times.max(), freqs.min(), freqs.max()])\n",
    "        ax1.set_yticks(freqs[::10])\n",
    "        ax1.set_xticks(times[::50])\n",
    "        ax1.set_title('spectrogram of ' + filename)\n",
    "        ax1.set_ylabel('Frequency (Hz)')\n",
    "        ax1.set_xlabel('Time (s)')\n",
    "    else:\n",
    "        print(\"not plot image\")\n",
    "        \n",
    "    # 刻み幅の変更\n",
    "    if ticks != 0:\n",
    "        ax1.set_xticks(np.arange(0, times[-1], ticks))\n",
    "\n",
    "    # 画像の保存\n",
    "    print(\"save_flag:\"+str(save_flag))\n",
    "    if save_flag != 0:\n",
    "        if axis == 1 or axis == 3:#軸あり\n",
    "            plt.savefig(\"../Spectrogram/\"+stetho+\"/axis_\"+save+\"/axis_\"+name+\"_\"+save+\".png\")\n",
    "        elif axis == 0 or axis == 2:#軸なし\n",
    "            plt.savefig(\"../Spectrogram/\"+stetho+\"/\"+save+\"/\"+name+\"_\"+save+\".png\")\n",
    "        else:\n",
    "            print(\"not save image\")"
   ]
  },
  {
   "cell_type": "markdown",
   "id": "11b1bc86",
   "metadata": {},
   "source": [
    "## 通常のスペクトログラム"
   ]
  },
  {
   "cell_type": "code",
   "execution_count": null,
   "id": "b6edcea9",
   "metadata": {},
   "outputs": [],
   "source": [
    "freqs, times, spectrogram = specgram(m_samples, sample_rate)\n",
    "spec_show(freqs=freqs,times=times,spec=spectrogram, ticks=0, axis=axis, save='spec',save_flag=0)"
   ]
  },
  {
   "cell_type": "markdown",
   "id": "ed72b1d5",
   "metadata": {},
   "source": [
    "## logスペクトログラム変換"
   ]
  },
  {
   "cell_type": "code",
   "execution_count": null,
   "id": "78c963fe",
   "metadata": {},
   "outputs": [],
   "source": [
    "freqs, times, log_spectrogram = log_specgram(m_samples, sample_rate)\n",
    "spec_show(freqs=freqs,times=times,spec=log_spectrogram,ticks=0,axis=axis,save='log_spec', save_flag=save_flag)"
   ]
  },
  {
   "cell_type": "code",
   "execution_count": null,
   "id": "599e2fa0",
   "metadata": {},
   "outputs": [],
   "source": [
    "#librosaを利用するために信号データをfloat型に変換\n",
    "m_samples=m_samples.astype(np.float16)\n",
    "m_samples"
   ]
  },
  {
   "cell_type": "markdown",
   "id": "35a214c9",
   "metadata": {},
   "source": [
    "# melスペクトログラム変換"
   ]
  },
  {
   "cell_type": "code",
   "execution_count": null,
   "id": "9095ce88",
   "metadata": {},
   "outputs": [],
   "source": [
    "def mel_spec(m_samples, sample_rate, db, n_mels, n_fft=2048, hop_length=512, win_length=None):\n",
    "    S = librosa.feature.melspectrogram(y=m_samples, sr=sample_rate, n_mels=n_mels, n_fft=n_fft, hop_length=hop_length, win_length=win_length)\n",
    "    if db=='amp': #振幅をdbスケールに変換\n",
    "        S_DB = librosa.amplitude_to_db(S, ref=np.max)\n",
    "    elif db=='power': #振幅の二乗をdbスケールに変換\n",
    "        S_DB = librosa.power_to_db(S, ref=np.max)\n",
    "    elif db =='no':\n",
    "        # 範囲指定してスケーリングする場合\n",
    "        sc_min = 0\n",
    "        sc_max = 256\n",
    "        scaler = MinMaxScaler( (sc_min, sc_max) )\n",
    "        scaler.fit(S)\n",
    "        data_scaled = scaler.transform(S)\n",
    "        S_DB = data_scaled\n",
    "        print(S_DB)\n",
    "        print(S_DB.shape)\n",
    "    else:\n",
    "        print(\"can't transform to spectrogram\")\n",
    "        return 0\n",
    "    return S_DB\n",
    "    \n",
    "def mel_spec_show(spec, axis, save, hop_length, y_axis, ticks=0, save_flag=0):\n",
    "        \n",
    "    #軸の描画\n",
    "    if axis == 0:#軸なし、サイズ(1584, 256)\n",
    "        fig = plt.figure(dpi=1,figsize=(1584, 256))\n",
    "        ax1 = fig.add_subplot(111)\n",
    "        ax1.axis(\"off\")\n",
    "        fig.tight_layout()\n",
    "        fig.subplots_adjust(left=0,right=1,bottom=0,top=1)\n",
    "        librosa.display.specshow(S_DB, sr=sample_rate, hop_length=hop_length, x_axis='s', y_axis=y_axis)\n",
    "    \n",
    "    elif axis == 1:#軸あり、サイズ(24, 4)\n",
    "        fig = plt.figure(figsize=(24, 4))\n",
    "        ax1 = fig.add_subplot(111)\n",
    "        librosa.display.specshow(S_DB, sr=sample_rate, hop_length=hop_length, x_axis='s', y_axis=y_axis)\n",
    "        ax1.set_title(filename)\n",
    "        ax1.set_ylabel('Frequency (Hz)')\n",
    "        ax1.set_xlabel('Time (s)')\n",
    "        plt.colorbar(format='%+02.0f dB')\n",
    "    \n",
    "    elif axis == 2:#軸なし、サイズデフォルト\n",
    "        fig = plt.figure()\n",
    "        ax1 = fig.add_subplot(111)\n",
    "        ax1.axis(\"off\")\n",
    "        fig.tight_layout()\n",
    "        fig.subplots_adjust(left=0,right=1,bottom=0,top=1)\n",
    "        librosa.display.specshow(S_DB, sr=sample_rate, hop_length=hop_length, x_axis='s', y_axis=y_axis)\n",
    "    \n",
    "    elif axis == 3:#軸あり、サイズデフォルト\n",
    "        fig = plt.figure()\n",
    "        ax1 = fig.add_subplot(111)\n",
    "        librosa.display.specshow(S_DB, sr=sample_rate, hop_length=hop_length, x_axis='s', y_axis=y_axis)\n",
    "        ax1.set_title(filename)\n",
    "        ax1.set_ylabel('Frequency (Hz)')\n",
    "        ax1.set_xlabel('Time (s)')\n",
    "        plt.colorbar(format='%+02.0f dB')\n",
    "        \n",
    "    elif axis == 4:#軸あり、サイズ(24, 4)dbなし\n",
    "        fig = plt.figure(figsize=(24, 4))\n",
    "        ax1 = fig.add_subplot(111)\n",
    "        librosa.display.specshow(S_DB, sr=sample_rate, hop_length=hop_length, x_axis='s', y_axis=y_axis)\n",
    "        ax1.set_title(filename)\n",
    "        ax1.set_ylabel('Frequency (Hz)')\n",
    "        ax1.set_xlabel('Time (s)')\n",
    "    \n",
    "    else:\n",
    "        print(\"not plot image\")\n",
    "        \n",
    "    # 刻み幅の変更\n",
    "    if ticks != 0:\n",
    "        ax1.set_xticks(np.arange(0, times[-1], ticks))\n",
    "\n",
    "    # 画像の保存\n",
    "    if save_flag != 0:\n",
    "        if axis == 1 or axis == 3:\n",
    "            plt.savefig(\"../Spectrogram/\"+stetho+\"/axis_\"+save+\"/axis_\"+name+\"_\"+save+\".png\")\n",
    "        elif axis == 0 or axis == 2:\n",
    "            plt.savefig(\"../Spectrogram/\"+stetho+\"/\"+save+\"/\"+name+\"_\"+save+\".png\")\n",
    "        else:\n",
    "            print(\"not save image\")\n",
    "        \n",
    "        "
   ]
  },
  {
   "cell_type": "code",
   "execution_count": null,
   "id": "ad898a4f",
   "metadata": {},
   "outputs": [],
   "source": [
    "#mel_amp_spec\n",
    "S_DB = mel_spec(m_samples=m_samples, sample_rate=sample_rate, db='amp', n_mels=256)\n",
    "mel_spec_show(spec=S_DB,ticks=1,axis=axis,save=\"mel_amp_spec\",hop_length=512,y_axis='log', save_flag=save_flag)"
   ]
  },
  {
   "cell_type": "code",
   "execution_count": null,
   "id": "5f47f613",
   "metadata": {},
   "outputs": [],
   "source": [
    "#mel_amp_breathstep_spec\n",
    "S_DB = mel_spec(m_samples=m_samples, sample_rate=sample_rate, db='amp', n_mels=256,n_fft=32768)\n",
    "mel_spec_show(spec=S_DB,ticks=1,axis=axis,save=\"mel_amp_breathstep_spec\",hop_length=512,y_axis='log', save_flag=save_flag)"
   ]
  },
  {
   "cell_type": "code",
   "execution_count": null,
   "id": "fb727b35",
   "metadata": {},
   "outputs": [],
   "source": [
    "#default_mel_spec\n",
    "S_DB = mel_spec(m_samples=m_samples, sample_rate=sample_rate, db='power', n_mels=128)\n",
    "mel_spec_show(spec=S_DB,ticks=1,axis=axis,save=\"default_mel_spec\",hop_length=512,y_axis='mel',save_flag=save_flag)"
   ]
  },
  {
   "cell_type": "code",
   "execution_count": null,
   "id": "99884e52",
   "metadata": {},
   "outputs": [],
   "source": [
    "#mel_log_spec\n",
    "S_DB = mel_spec(m_samples=m_samples, sample_rate=sample_rate, db='power', n_mels=256, n_fft=1024, hop_length=256, win_length=1024)\n",
    "mel_spec_show(spec=S_DB,ticks=1,axis=axis,save=\"mel_log_spec\",hop_length=256,y_axis='log',save_flag=save_flag)"
   ]
  },
  {
   "cell_type": "code",
   "execution_count": null,
   "id": "ab09fe01",
   "metadata": {},
   "outputs": [],
   "source": [
    "#mel_log_breathstep_spec\n",
    "S_DB = mel_spec(m_samples=m_samples, sample_rate=sample_rate, db='power', n_mels=256, n_fft=32768, hop_length=256)\n",
    "mel_spec_show(spec=S_DB,ticks=1,axis=axis,save=\"mel_log_breathstep_spec\",hop_length=256,y_axis='log', save_flag=save_flag)"
   ]
  },
  {
   "cell_type": "code",
   "execution_count": null,
   "id": "a1867367",
   "metadata": {},
   "outputs": [],
   "source": [
    "#mel_spec\n",
    "S_DB = mel_spec(m_samples=m_samples, sample_rate=sample_rate, db='power', n_mels=256, n_fft=1024, hop_length=256, win_length=1024)\n",
    "mel_spec_show(spec=S_DB,ticks=1,axis=axis,save=\"mel_spec\",hop_length=256,y_axis='mel', save_flag=save_flag)"
   ]
  },
  {
   "cell_type": "code",
   "execution_count": null,
   "id": "b2a32128",
   "metadata": {},
   "outputs": [],
   "source": [
    "# default_size_mel_spec\n",
    "S_DB = mel_spec(m_samples=m_samples, sample_rate=sample_rate, db='power', n_mels=256, n_fft=1024, hop_length=256, win_length=1024)\n",
    "mel_spec_show(spec=S_DB,ticks=1,axis=axis+2,save=\"default_size_mel_spec\",hop_length=256,y_axis='mel', save_flag=save_flag)"
   ]
  },
  {
   "cell_type": "markdown",
   "id": "06304747",
   "metadata": {},
   "source": [
    "#non_db_mel_spec\n",
    "S_DB = mel_spec(m_samples=m_samples, sample_rate=sample_rate, db='no', n_mels=256, n_fft=1024, hop_length=256, win_length=1024)\n",
    "mel_spec_show(spec=S_DB,ticks=0,axis=axis,save=\"non_db_mel_spec\",hop_length=256,y_axis='mel', save_flag=save_flag)"
   ]
  },
  {
   "cell_type": "markdown",
   "id": "e54c5920",
   "metadata": {},
   "source": [
    "#hop1024_mel_log_spec\n",
    "S_DB = mel_spec(m_samples=m_samples, sample_rate=sample_rate, db='power', n_mels=256, n_fft=1024, hop_length=1024)\n",
    "mel_spec_show(spec=S_DB,ticks=0,axis=axis,save=\"mel_log_spec\",hop_length=256,y_axis='log',save_flag=save_flag)"
   ]
  },
  {
   "cell_type": "code",
   "execution_count": null,
   "id": "f08eed88",
   "metadata": {},
   "outputs": [],
   "source": []
  }
 ],
 "metadata": {
  "kernelspec": {
   "display_name": "Python (sys1)",
   "language": "python",
   "name": "sys1"
  },
  "language_info": {
   "codemirror_mode": {
    "name": "ipython",
    "version": 3
   },
   "file_extension": ".py",
   "mimetype": "text/x-python",
   "name": "python",
   "nbconvert_exporter": "python",
   "pygments_lexer": "ipython3",
   "version": "3.9.6"
  }
 },
 "nbformat": 4,
 "nbformat_minor": 5
}
