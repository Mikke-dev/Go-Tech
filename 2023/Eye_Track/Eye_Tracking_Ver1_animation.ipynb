{
 "cells": [
  {
   "cell_type": "markdown",
   "id": "d2c39c90",
   "metadata": {},
   "source": [
    "# 診察結果画像の視線注目箇所animation\n",
    "\n",
    "# 11月15日の作業内容記載"
   ]
  },
  {
   "cell_type": "markdown",
   "id": "03096057",
   "metadata": {},
   "source": [
    "## ライブラリのインポート"
   ]
  },
  {
   "cell_type": "code",
   "execution_count": 1,
   "id": "90e21857",
   "metadata": {},
   "outputs": [],
   "source": [
    "import IPython.display as ipd\n",
    "from IPython.display import HTML , Audio \n",
    "import pandas as pd\n",
    "from scipy.io import wavfile\n",
    "import os\n",
    "import numpy as np\n",
    "from scipy import signal\n",
    "from hmmlearn import hmm\n",
    "from scipy import fftpack\n",
    "import matplotlib.pyplot as plt\n",
    "import seaborn as sns\n",
    "%matplotlib inline\n",
    "import librosa\n",
    "import librosa.display \n",
    "import cv2\n",
    "from sklearn.preprocessing import StandardScaler\n",
    "#import matwavlib as mw\n",
    "\n",
    "import warnings\n",
    "warnings.simplefilter('ignore')"
   ]
  },
  {
   "cell_type": "markdown",
   "id": "3a606df5",
   "metadata": {},
   "source": [
    "### 音声ファイルの確認"
   ]
  },
  {
   "cell_type": "code",
   "execution_count": 2,
   "id": "5b794ffa",
   "metadata": {},
   "outputs": [
    {
     "name": "stdout",
     "output_type": "stream",
     "text": [
      "----\n",
      "['asada_pupil_data_1.csv', 'asada_pupil_data_2.csv', 'asada_pupil_data_3.csv', 'harada_pupil_data_1.csv', 'harada_pupil_data_2.csv', 'harada_pupil_data_3.csv', 'shiono_pupil_data_1.csv', 'shiono_pupil_data_2.csv', 'shiono_pupil_data_3.csv']\n"
     ]
    }
   ],
   "source": [
    "path = \"csv/\"\n",
    "csv_files = os.listdir(path)\n",
    "csv_files = sorted(csv_files)\n",
    "csv_files.remove('.DS_Store')\n",
    "print('----')\n",
    "print(csv_files)"
   ]
  },
  {
   "cell_type": "markdown",
   "id": "2c5e2a1b",
   "metadata": {},
   "source": [
    "## 生成する画像のファイル名の一部を定義\n",
    "画像保存、読み取りの際に利用"
   ]
  },
  {
   "cell_type": "code",
   "execution_count": 3,
   "id": "0561d2fe",
   "metadata": {},
   "outputs": [],
   "source": [
    "sub_num = 0\n",
    "data_num = 4\n",
    "sub_spec = csv_files[sub_num]\n",
    "sub_plot = csv_files[sub_num+1]\n",
    "sub_anime = csv_files[sub_num+2]"
   ]
  },
  {
   "cell_type": "markdown",
   "id": "e1b6a1c0",
   "metadata": {},
   "source": [
    "## 音声ファイル読み込み"
   ]
  },
  {
   "cell_type": "code",
   "execution_count": 4,
   "id": "4e94b209",
   "metadata": {},
   "outputs": [
    {
     "name": "stdout",
     "output_type": "stream",
     "text": [
      "total_time : 196.45seconds\n"
     ]
    },
    {
     "data": {
      "text/html": [
       "<div>\n",
       "<style scoped>\n",
       "    .dataframe tbody tr th:only-of-type {\n",
       "        vertical-align: middle;\n",
       "    }\n",
       "\n",
       "    .dataframe tbody tr th {\n",
       "        vertical-align: top;\n",
       "    }\n",
       "\n",
       "    .dataframe thead th {\n",
       "        text-align: right;\n",
       "    }\n",
       "</style>\n",
       "<table border=\"1\" class=\"dataframe\">\n",
       "  <thead>\n",
       "    <tr style=\"text-align: right;\">\n",
       "      <th></th>\n",
       "      <th>L_pupil</th>\n",
       "      <th>R_pupil</th>\n",
       "      <th>L_gaze</th>\n",
       "      <th>R_gaze</th>\n",
       "    </tr>\n",
       "  </thead>\n",
       "  <tbody>\n",
       "    <tr>\n",
       "      <th>0</th>\n",
       "      <td>NaN</td>\n",
       "      <td>NaN</td>\n",
       "      <td>(nan, nan)</td>\n",
       "      <td>(nan, nan)</td>\n",
       "    </tr>\n",
       "    <tr>\n",
       "      <th>1</th>\n",
       "      <td>NaN</td>\n",
       "      <td>NaN</td>\n",
       "      <td>(nan, nan)</td>\n",
       "      <td>(nan, nan)</td>\n",
       "    </tr>\n",
       "    <tr>\n",
       "      <th>2</th>\n",
       "      <td>NaN</td>\n",
       "      <td>NaN</td>\n",
       "      <td>(nan, nan)</td>\n",
       "      <td>(nan, nan)</td>\n",
       "    </tr>\n",
       "    <tr>\n",
       "      <th>3</th>\n",
       "      <td>NaN</td>\n",
       "      <td>NaN</td>\n",
       "      <td>(nan, nan)</td>\n",
       "      <td>(nan, nan)</td>\n",
       "    </tr>\n",
       "    <tr>\n",
       "      <th>4</th>\n",
       "      <td>NaN</td>\n",
       "      <td>NaN</td>\n",
       "      <td>(nan, nan)</td>\n",
       "      <td>(nan, nan)</td>\n",
       "    </tr>\n",
       "    <tr>\n",
       "      <th>...</th>\n",
       "      <td>...</td>\n",
       "      <td>...</td>\n",
       "      <td>...</td>\n",
       "      <td>...</td>\n",
       "    </tr>\n",
       "    <tr>\n",
       "      <th>11782</th>\n",
       "      <td>NaN</td>\n",
       "      <td>NaN</td>\n",
       "      <td>(nan, nan)</td>\n",
       "      <td>(nan, nan)</td>\n",
       "    </tr>\n",
       "    <tr>\n",
       "      <th>11783</th>\n",
       "      <td>NaN</td>\n",
       "      <td>NaN</td>\n",
       "      <td>(nan, nan)</td>\n",
       "      <td>(nan, nan)</td>\n",
       "    </tr>\n",
       "    <tr>\n",
       "      <th>11784</th>\n",
       "      <td>NaN</td>\n",
       "      <td>NaN</td>\n",
       "      <td>(nan, nan)</td>\n",
       "      <td>(nan, nan)</td>\n",
       "    </tr>\n",
       "    <tr>\n",
       "      <th>11785</th>\n",
       "      <td>NaN</td>\n",
       "      <td>NaN</td>\n",
       "      <td>(nan, nan)</td>\n",
       "      <td>(nan, nan)</td>\n",
       "    </tr>\n",
       "    <tr>\n",
       "      <th>11786</th>\n",
       "      <td>NaN</td>\n",
       "      <td>NaN</td>\n",
       "      <td>(nan, nan)</td>\n",
       "      <td>(nan, nan)</td>\n",
       "    </tr>\n",
       "  </tbody>\n",
       "</table>\n",
       "<p>11787 rows × 4 columns</p>\n",
       "</div>"
      ],
      "text/plain": [
       "       L_pupil  R_pupil      L_gaze      R_gaze\n",
       "0          NaN      NaN  (nan, nan)  (nan, nan)\n",
       "1          NaN      NaN  (nan, nan)  (nan, nan)\n",
       "2          NaN      NaN  (nan, nan)  (nan, nan)\n",
       "3          NaN      NaN  (nan, nan)  (nan, nan)\n",
       "4          NaN      NaN  (nan, nan)  (nan, nan)\n",
       "...        ...      ...         ...         ...\n",
       "11782      NaN      NaN  (nan, nan)  (nan, nan)\n",
       "11783      NaN      NaN  (nan, nan)  (nan, nan)\n",
       "11784      NaN      NaN  (nan, nan)  (nan, nan)\n",
       "11785      NaN      NaN  (nan, nan)  (nan, nan)\n",
       "11786      NaN      NaN  (nan, nan)  (nan, nan)\n",
       "\n",
       "[11787 rows x 4 columns]"
      ]
     },
     "execution_count": 4,
     "metadata": {},
     "output_type": "execute_result"
    }
   ],
   "source": [
    "df_sub_spec = pd.read_csv(path+sub_spec)\n",
    "df_sub_plot = pd.read_csv(path+sub_plot)\n",
    "df_sub_anime = pd.read_csv(path+sub_anime)\n",
    "print(\"total_time : \"+str((len(df_sub_spec))/60.0)+\"seconds\")\n",
    "df_sub_spec"
   ]
  },
  {
   "cell_type": "markdown",
   "id": "32394cc2",
   "metadata": {},
   "source": []
  },
  {
   "cell_type": "code",
   "execution_count": 5,
   "id": "0acb81de",
   "metadata": {},
   "outputs": [],
   "source": [
    "def get_data(df_sub):\n",
    "    \n",
    "    #col = [\"pupil_L\",\"pupil_R\",\"gaze_L\",\"gaze\",\"\",\"\",\"\"]\n",
    "    df_eye = pd.DataFrame(index=[],columns=[])\n",
    "    \n",
    "    time_array = np.array([])\n",
    "    period_sub = ((len(df_sub))/60.0)/len(df_sub)\n",
    "    \n",
    "    for i in range(len(df_sub)):\n",
    "        time_array = np.append(time_array, period_sub*i)\n",
    "    print(len(time_array))\n",
    "        \n",
    "    #-------------------------------------------------------------------------------#\n",
    "    \n",
    "    sub_array = np.array([])\n",
    "    sub_str = df_sub.iloc[:,0]\n",
    "    pupil = sub_str.fillna(100000)\n",
    "    sub_Lpupil = np.array(pupil)\n",
    "    print(len(sub_Lpupil))\n",
    "    \n",
    "    #-------------------------------------------------------------------------------#\n",
    "    \n",
    "    sub_array = np.array([])\n",
    "    sub_str = df_sub.iloc[:,1]\n",
    "    pupil = sub_str.fillna(100000)\n",
    "    sub_Rpupil = np.array(pupil)\n",
    "\n",
    "    #-------------------------------------------------------------------------------#\n",
    "    sub_array = np.array([])\n",
    "    sub_str = df_sub.iloc[:,2]\n",
    "\n",
    "    for str_num in sub_str:\n",
    "\n",
    "        if str_num[1]=='n':\n",
    "            #sub_array = np.append(sub_array, (float('nan'),float('nan')))\n",
    "            sub_array = np.append(sub_array, (0,0))\n",
    "        else:\n",
    "            sub_array = np.append(sub_array, eval(str_num))\n",
    "            \n",
    "\n",
    "\n",
    "    sub_Lgaze_array_x = sub_array[0::2]\n",
    "    sub_Lgaze_array_y = sub_array[1::2]\n",
    "\n",
    "    #-------------------------------------------------------------------------------#\n",
    "\n",
    "    sub_array = np.array([])\n",
    "    sub_str = df_sub.iloc[:,3]\n",
    "\n",
    "    for str_num in sub_str:\n",
    "        \n",
    "        if str_num[1]=='n':\n",
    "            #sub_array = np.append(sub_array, (float('nan'),float('nan')))\n",
    "            sub_array = np.append(sub_array, (0,0))\n",
    "        else:\n",
    "            sub_array = np.append(sub_array, eval(str_num))\n",
    "\n",
    "    sub_Rgaze_array_x = sub_array[0::2]\n",
    "    sub_Rgaze_array_y = sub_array[1::2]\n",
    "    \n",
    "    #-------------------------------------------------------------------------------#\n",
    "    \n",
    "    df_eye[\"time\"]=time_array\n",
    "    df_eye[\"Lpupil\"]=sub_Lpupil\n",
    "    df_eye[\"Rpupil\"]=sub_Rpupil\n",
    "    df_eye[\"LgazeX\"]=sub_Lgaze_array_x\n",
    "    df_eye[\"LgazeY\"]=sub_Lgaze_array_y\n",
    "    df_eye[\"RgazeX\"]=sub_Rgaze_array_x\n",
    "    df_eye[\"RgazeY\"]=sub_Rgaze_array_y\n",
    "    \n",
    "    \n",
    "    print(len(time_array))\n",
    "    print(len(sub_Lpupil))\n",
    "    print(len(sub_Rpupil))\n",
    "    print(len(sub_Lgaze_array_x))\n",
    "    print(len(sub_Lgaze_array_y))\n",
    "    print(len(sub_Rgaze_array_x))\n",
    "    print(len(sub_Rgaze_array_y))\n",
    "\n",
    "    return df_eye"
   ]
  },
  {
   "cell_type": "code",
   "execution_count": 6,
   "id": "0e7b3a4b",
   "metadata": {},
   "outputs": [
    {
     "name": "stdout",
     "output_type": "stream",
     "text": [
      "11787\n",
      "11787\n",
      "11787\n",
      "11787\n",
      "11787\n",
      "11787\n",
      "11787\n",
      "11787\n",
      "11787\n",
      "9301\n",
      "9301\n",
      "9301\n",
      "9301\n",
      "9301\n",
      "9301\n",
      "9301\n",
      "9301\n",
      "9301\n",
      "10237\n",
      "10237\n",
      "10237\n",
      "10237\n",
      "10237\n",
      "10237\n",
      "10237\n",
      "10237\n",
      "10237\n"
     ]
    }
   ],
   "source": [
    "df_eye = get_data(df_sub_spec) \n",
    "df_eye_plot = get_data(df_sub_plot)\n",
    "df_eye_anime = get_data(df_sub_anime)"
   ]
  },
  {
   "cell_type": "markdown",
   "id": "90aa32c4",
   "metadata": {},
   "source": [
    "## 11/15\n",
    "## 最適診断結果画像の調査実験により取得した視線データの検出プログラムeye_research.ipynbの制作\n",
    "\n",
    "\n",
    "診察画像に対して医師がどのように説明するべきか、どのように画像を提示するべきかを調査する  \n",
    "画像を見ている被験者の目線の位置を特定するためにTobii eye trackerを使用する  \n",
    "現在プログラムを作成中\n"
   ]
  },
  {
   "cell_type": "code",
   "execution_count": 7,
   "id": "080bd289",
   "metadata": {},
   "outputs": [],
   "source": [
    "df_eye_inter = df_eye.interpolate(limit_direction='both')\n",
    "df_eye_inter_plot = df_eye_plot.interpolate(limit_direction='both')\n",
    "df_eye_inter_anime = df_eye_anime.interpolate(limit_direction='both')"
   ]
  },
  {
   "cell_type": "code",
   "execution_count": 8,
   "id": "8054bba7",
   "metadata": {},
   "outputs": [],
   "source": [
    "def range_adj(df_inter):\n",
    "    df_inter['LgazeX'].where((df_inter['LgazeX'] >= 0.0), 0.0, inplace=True)\n",
    "    df_inter['LgazeX'].where((df_inter['LgazeX'] <= 1.0), 1.0, inplace=True)\n",
    "\n",
    "    df_inter['LgazeY'].where((df_inter['LgazeY'] >= 0.0), 0.0, inplace=True)\n",
    "    df_inter['LgazeY'].where((df_inter['LgazeY'] <= 1.0), 1.0, inplace=True)\n",
    "\n",
    "    df_inter['RgazeX'].where((df_inter['RgazeX'] >= 0.0), 0.0, inplace=True)\n",
    "    df_inter['RgazeX'].where((df_inter['RgazeX'] <= 1.0), 1.0, inplace=True)\n",
    "\n",
    "    df_inter['RgazeY'].where((df_inter['RgazeY'] >= 0.0), 0.0, inplace=True)\n",
    "    df_inter['RgazeY'].where((df_inter['RgazeY'] <= 1.0), 1.0, inplace=True)\n",
    "    \n",
    "    return df_inter"
   ]
  },
  {
   "cell_type": "code",
   "execution_count": 9,
   "id": "354aa20a",
   "metadata": {},
   "outputs": [],
   "source": [
    "df_eye_inter = range_adj(df_inter=df_eye_inter)\n",
    "df_eye_inter_plot = range_adj(df_inter=df_eye_inter_plot)\n",
    "df_eye_inter_anime = range_adj(df_inter=df_eye_inter_anime)"
   ]
  },
  {
   "cell_type": "code",
   "execution_count": 10,
   "id": "2d31ed62",
   "metadata": {},
   "outputs": [
    {
     "data": {
      "text/html": [
       "<div>\n",
       "<style scoped>\n",
       "    .dataframe tbody tr th:only-of-type {\n",
       "        vertical-align: middle;\n",
       "    }\n",
       "\n",
       "    .dataframe tbody tr th {\n",
       "        vertical-align: top;\n",
       "    }\n",
       "\n",
       "    .dataframe thead th {\n",
       "        text-align: right;\n",
       "    }\n",
       "</style>\n",
       "<table border=\"1\" class=\"dataframe\">\n",
       "  <thead>\n",
       "    <tr style=\"text-align: right;\">\n",
       "      <th></th>\n",
       "      <th>time</th>\n",
       "      <th>Lpupil</th>\n",
       "      <th>Rpupil</th>\n",
       "      <th>LgazeX</th>\n",
       "      <th>LgazeY</th>\n",
       "      <th>RgazeX</th>\n",
       "      <th>RgazeY</th>\n",
       "    </tr>\n",
       "  </thead>\n",
       "  <tbody>\n",
       "    <tr>\n",
       "      <th>0</th>\n",
       "      <td>0.000000</td>\n",
       "      <td>100000.000000</td>\n",
       "      <td>100000.000000</td>\n",
       "      <td>0.000000</td>\n",
       "      <td>0.000000</td>\n",
       "      <td>0.000000</td>\n",
       "      <td>0.000000</td>\n",
       "    </tr>\n",
       "    <tr>\n",
       "      <th>1</th>\n",
       "      <td>0.016667</td>\n",
       "      <td>100000.000000</td>\n",
       "      <td>100000.000000</td>\n",
       "      <td>0.000000</td>\n",
       "      <td>0.000000</td>\n",
       "      <td>0.000000</td>\n",
       "      <td>0.000000</td>\n",
       "    </tr>\n",
       "    <tr>\n",
       "      <th>2</th>\n",
       "      <td>0.033333</td>\n",
       "      <td>100000.000000</td>\n",
       "      <td>100000.000000</td>\n",
       "      <td>0.000000</td>\n",
       "      <td>0.000000</td>\n",
       "      <td>0.000000</td>\n",
       "      <td>0.000000</td>\n",
       "    </tr>\n",
       "    <tr>\n",
       "      <th>3</th>\n",
       "      <td>0.050000</td>\n",
       "      <td>100000.000000</td>\n",
       "      <td>100000.000000</td>\n",
       "      <td>0.000000</td>\n",
       "      <td>0.000000</td>\n",
       "      <td>0.000000</td>\n",
       "      <td>0.000000</td>\n",
       "    </tr>\n",
       "    <tr>\n",
       "      <th>4</th>\n",
       "      <td>0.066667</td>\n",
       "      <td>100000.000000</td>\n",
       "      <td>100000.000000</td>\n",
       "      <td>0.000000</td>\n",
       "      <td>0.000000</td>\n",
       "      <td>0.000000</td>\n",
       "      <td>0.000000</td>\n",
       "    </tr>\n",
       "    <tr>\n",
       "      <th>...</th>\n",
       "      <td>...</td>\n",
       "      <td>...</td>\n",
       "      <td>...</td>\n",
       "      <td>...</td>\n",
       "      <td>...</td>\n",
       "      <td>...</td>\n",
       "      <td>...</td>\n",
       "    </tr>\n",
       "    <tr>\n",
       "      <th>10232</th>\n",
       "      <td>170.533333</td>\n",
       "      <td>2.652985</td>\n",
       "      <td>2.739609</td>\n",
       "      <td>0.551444</td>\n",
       "      <td>0.565623</td>\n",
       "      <td>0.556209</td>\n",
       "      <td>0.729609</td>\n",
       "    </tr>\n",
       "    <tr>\n",
       "      <th>10233</th>\n",
       "      <td>170.550000</td>\n",
       "      <td>2.593231</td>\n",
       "      <td>2.762573</td>\n",
       "      <td>0.542900</td>\n",
       "      <td>0.515563</td>\n",
       "      <td>0.553273</td>\n",
       "      <td>0.742986</td>\n",
       "    </tr>\n",
       "    <tr>\n",
       "      <th>10234</th>\n",
       "      <td>170.566667</td>\n",
       "      <td>2.584198</td>\n",
       "      <td>2.818893</td>\n",
       "      <td>0.545499</td>\n",
       "      <td>0.534013</td>\n",
       "      <td>0.538771</td>\n",
       "      <td>0.773013</td>\n",
       "    </tr>\n",
       "    <tr>\n",
       "      <th>10235</th>\n",
       "      <td>170.583333</td>\n",
       "      <td>2.618942</td>\n",
       "      <td>2.838898</td>\n",
       "      <td>0.551311</td>\n",
       "      <td>0.569869</td>\n",
       "      <td>0.546152</td>\n",
       "      <td>0.783850</td>\n",
       "    </tr>\n",
       "    <tr>\n",
       "      <th>10236</th>\n",
       "      <td>170.600000</td>\n",
       "      <td>2.591064</td>\n",
       "      <td>2.683899</td>\n",
       "      <td>0.548984</td>\n",
       "      <td>0.529971</td>\n",
       "      <td>0.552145</td>\n",
       "      <td>0.708333</td>\n",
       "    </tr>\n",
       "  </tbody>\n",
       "</table>\n",
       "<p>10237 rows × 7 columns</p>\n",
       "</div>"
      ],
      "text/plain": [
       "             time         Lpupil         Rpupil    LgazeX    LgazeY    RgazeX  \\\n",
       "0        0.000000  100000.000000  100000.000000  0.000000  0.000000  0.000000   \n",
       "1        0.016667  100000.000000  100000.000000  0.000000  0.000000  0.000000   \n",
       "2        0.033333  100000.000000  100000.000000  0.000000  0.000000  0.000000   \n",
       "3        0.050000  100000.000000  100000.000000  0.000000  0.000000  0.000000   \n",
       "4        0.066667  100000.000000  100000.000000  0.000000  0.000000  0.000000   \n",
       "...           ...            ...            ...       ...       ...       ...   \n",
       "10232  170.533333       2.652985       2.739609  0.551444  0.565623  0.556209   \n",
       "10233  170.550000       2.593231       2.762573  0.542900  0.515563  0.553273   \n",
       "10234  170.566667       2.584198       2.818893  0.545499  0.534013  0.538771   \n",
       "10235  170.583333       2.618942       2.838898  0.551311  0.569869  0.546152   \n",
       "10236  170.600000       2.591064       2.683899  0.548984  0.529971  0.552145   \n",
       "\n",
       "         RgazeY  \n",
       "0      0.000000  \n",
       "1      0.000000  \n",
       "2      0.000000  \n",
       "3      0.000000  \n",
       "4      0.000000  \n",
       "...         ...  \n",
       "10232  0.729609  \n",
       "10233  0.742986  \n",
       "10234  0.773013  \n",
       "10235  0.783850  \n",
       "10236  0.708333  \n",
       "\n",
       "[10237 rows x 7 columns]"
      ]
     },
     "execution_count": 10,
     "metadata": {},
     "output_type": "execute_result"
    }
   ],
   "source": [
    "df_eye_inter_anime"
   ]
  },
  {
   "cell_type": "code",
   "execution_count": 11,
   "id": "dfea7c76",
   "metadata": {},
   "outputs": [],
   "source": [
    "x_size = 1366\n",
    "y_size = 768\n",
    "screen_x = np.linspace(40.0, 1180, 10000)\n",
    "z_max = np.linspace(504, 504, 10000)\n",
    "z_min = np.linspace(256, 256, 10000)\n",
    "\n",
    "screen_y = np.linspace(256, 504, 10000)\n",
    "x_max = np.linspace(1180, 1180, 10000)\n",
    "x_min = np.linspace(40, 40, 10000)"
   ]
  },
  {
   "cell_type": "code",
   "execution_count": 12,
   "id": "08b553cb",
   "metadata": {},
   "outputs": [
    {
     "ename": "NameError",
     "evalue": "name 'start_time' is not defined",
     "output_type": "error",
     "traceback": [
      "\u001b[0;31m---------------------------------------------------------------------------\u001b[0m",
      "\u001b[0;31mNameError\u001b[0m                                 Traceback (most recent call last)",
      "Cell \u001b[0;32mIn[12], line 2\u001b[0m\n\u001b[1;32m      1\u001b[0m im_num \u001b[38;5;241m=\u001b[39m \u001b[38;5;241m1\u001b[39m\n\u001b[0;32m----> 2\u001b[0m l \u001b[38;5;241m=\u001b[39m \u001b[38;5;28mlen\u001b[39m(df_eye_inter[(df_eye_inter[\u001b[38;5;124m\"\u001b[39m\u001b[38;5;124mtime\u001b[39m\u001b[38;5;124m\"\u001b[39m]\u001b[38;5;241m>\u001b[39m\u001b[38;5;241m=\u001b[39m\u001b[43mstart_time\u001b[49m[im_num]) \u001b[38;5;241m&\u001b[39m (df_eye_inter[\u001b[38;5;124m\"\u001b[39m\u001b[38;5;124mtime\u001b[39m\u001b[38;5;124m\"\u001b[39m]\u001b[38;5;241m<\u001b[39m\u001b[38;5;241m=\u001b[39mend_time[im_num])][\u001b[38;5;124m\"\u001b[39m\u001b[38;5;124mLgazeX\u001b[39m\u001b[38;5;124m\"\u001b[39m])\n\u001b[1;32m      3\u001b[0m down_len\u001b[38;5;241m=\u001b[39ml\u001b[38;5;241m/\u001b[39m\u001b[38;5;241m/\u001b[39m\u001b[38;5;241m6\u001b[39m\n\u001b[1;32m      4\u001b[0m \u001b[38;5;28mprint\u001b[39m(l\u001b[38;5;241m*\u001b[39m\u001b[38;5;241m1\u001b[39m\u001b[38;5;241m/\u001b[39m\u001b[38;5;241m60\u001b[39m)\n",
      "\u001b[0;31mNameError\u001b[0m: name 'start_time' is not defined"
     ]
    }
   ],
   "source": [
    "im_num = 1\n",
    "l = len(df_eye_inter[(df_eye_inter[\"time\"]>=start_time[im_num]) & (df_eye_inter[\"time\"]<=end_time[im_num])][\"LgazeX\"])\n",
    "down_len=l//6\n",
    "print(l*1/60)\n",
    "print(down_len*1/10)\n",
    "print(down_len)\n",
    "\n",
    "\n",
    "for i in range(down_len):\n",
    "    fig = plt.figure(dpi=100,figsize=(13.66, 7.68))\n",
    "    ax = fig.add_subplot(111)\n",
    "    x = df_eye_inter[(df_eye_inter[\"time\"]>=start_time[im_num]) & (df_eye_inter[\"time\"]<=end_time[im_num])][\"LgazeX\"]*x_size#df_eye_inter[\"LgazeX\"][i]*x_size\n",
    "    y = (df_eye_inter[(df_eye_inter[\"time\"]>=start_time[im_num]) & (df_eye_inter[\"time\"]<=end_time[im_num])][\"LgazeY\"]-1)*(-y_size)#(df_eye_inter[\"LgazeY\"][i]-1)*-y_size\n",
    "    x.reset_index(drop=True,inplace=True)\n",
    "    y.reset_index(drop=True,inplace=True)\n",
    "    ax.scatter(x[i*6], y[i*6], c = \"red\", s=500)  \n",
    "    ax.set_xlim(0, x_size)\n",
    "    ax.set_ylim(0, y_size)\n",
    "    ax.axis(\"off\")\n",
    "    fig.savefig(\"image/image_\"+str(i)+\".png\", transparent=True)\n",
    "    plt.close()\n",
    "\n"
   ]
  },
  {
   "cell_type": "code",
   "execution_count": null,
   "id": "5c37db36",
   "metadata": {},
   "outputs": [],
   "source": [
    "import glob\n",
    "import cv2\n",
    "import re\n",
    "import shutil\n",
    "\n",
    "def atoi(text):\n",
    "    return int(text) if text.isdigit() else text\n",
    "\n",
    "def natural_keys(text):\n",
    "    return [ atoi(c) for c in re.split(r'(\\d+)', text) ]"
   ]
  },
  {
   "cell_type": "code",
   "execution_count": null,
   "id": "4b3221a2",
   "metadata": {},
   "outputs": [],
   "source": [
    "img_array = []\n",
    "fps = 10 #１秒の間に何枚画像を表示させるか\n",
    "for filename in sorted(glob.glob(\"image/*.png\"), key=natural_keys):\n",
    "    img = cv2.imread(filename)\n",
    "    height, width, layers = img.shape\n",
    "    size = (width, height)\n",
    "    img_array.append(img)\n",
    "\n",
    "name = 'eye_movie/project.mp4'\n",
    "out = cv2.VideoWriter(name, cv2.VideoWriter_fourcc(*'mp4v'), fps, size)\n",
    "\n",
    "for i in range(len(img_array)):\n",
    "    out.write(img_array[i])\n",
    "out.release()"
   ]
  },
  {
   "cell_type": "code",
   "execution_count": null,
   "id": "85435744",
   "metadata": {},
   "outputs": [],
   "source": [
    "shutil.rmtree(\"image\")\n",
    "os.mkdir(\"image\")"
   ]
  },
  {
   "cell_type": "code",
   "execution_count": 14,
   "id": "35093063",
   "metadata": {},
   "outputs": [],
   "source": [
    "def movie_saliency(src_file = \"sample_video.mp4\", dst_file = \"sample_output.mp4\"):\n",
    "    input_video = cv2.VideoCapture(src_file)\n",
    "    fps = input_video.get(cv2.CAP_PROP_FPS)\n",
    "    frame_width = int(input_video.get(cv2.CAP_PROP_FRAME_WIDTH))\n",
    "    frame_height = int(input_video.get(cv2.CAP_PROP_FRAME_HEIGHT))\n",
    "    output_video = cv2.VideoWriter(dst_file, cv2.VideoWriter_fourcc(*'mp4v'), fps, (frame_width, frame_height))\n",
    "    while True:\n",
    "        ret, frame = input_video.read()\n",
    "        if ret is not True:\n",
    "            break\n",
    "        (success, saliemcy_map) = __saliency(frame)\n",
    "        if success is True:\n",
    "            output_video.write(saliemcy_map)\n",
    "    input_video.release()\n",
    "    output_video.release()\n",
    "    \n",
    "\n",
    "def __saliency(src):\n",
    "    saliency = cv2.saliency.StaticSaliencySpectralResidual_create()\n",
    "    (success, saliemcy_map) = saliency.computeSaliency(src)\n",
    "    if success is False:\n",
    "        return (False, None)\n",
    "    saliemcy_map = (saliemcy_map * 255).astype(\"uint8\")\n",
    "    heatmap = cv2.applyColorMap(saliemcy_map, cv2.COLORMAP_JET)\n",
    "    # src1の重み0.7 src2の重み0.5 ガンマ1.0\n",
    "    weight = cv2.addWeighted(src,0.7, heatmap ,0.5 ,1.0)\n",
    "    return (success, weight)"
   ]
  },
  {
   "cell_type": "code",
   "execution_count": 16,
   "id": "b96ac50a",
   "metadata": {},
   "outputs": [],
   "source": [
    "movie_saliency(src_file=\"eye_movie/trim2.mp4\", dst_file=\"eye_movie/project.mp4\")"
   ]
  },
  {
   "cell_type": "code",
   "execution_count": null,
   "id": "9f1b8d60",
   "metadata": {},
   "outputs": [],
   "source": [
    "# 動画のパスを指定\n",
    "video1_path = \"eye_movie/project.mp4\"\n",
    "video2_path = \"eye_movie/trim2.mp4\"\n",
    "\n",
    "# ファイルを読み込み\n",
    "cap1 = cv2.VideoCapture(video1_path)\n",
    "cap2 = cv2.VideoCapture(video2_path)\n",
    "\n",
    "# 動画ファイルが開けたかを確認\n",
    "if not cap1.isOpened():\n",
    "    print(\"1つ目の動画ファイルの読み込みに失敗しました。\")\n",
    "    sys.exit()\n",
    "\n",
    "if not cap2.isOpened():\n",
    "    print(\"2つ目の動画ファイルの読み込みに失敗しました。\")\n",
    "    sys.exit()\n",
    "\n",
    "# 出力する動画のサイズを指定\n",
    "width = x_size\n",
    "height = y_size\n",
    "\n",
    "# 動画を再生する\n",
    "while True:\n",
    "  # 1つ目の動画から1フレーム取得する\n",
    "    ret1, frame1 = cap1.read()\n",
    "    if not ret1:\n",
    "        break\n",
    "\n",
    "  # 2つ目の動画から1フレーム取得する\n",
    "    ret2, frame2 = cap2.read()\n",
    "    if not ret2:\n",
    "        break\n",
    "\n",
    "  # フレームのサイズを合わせる\n",
    "    frame1 = cv2.resize(frame1, (x_size, y_size))\n",
    "    frame2 = cv2.resize(frame2, (x_size, y_size))\n",
    "\n",
    "  # 画像を重ね合わせる\n",
    "    frame3 = cv2.addWeighted(\n",
    "        src1=frame1, alpha=0.5,\n",
    "        src2=frame2, beta=0.5,\n",
    "        gamma=0\n",
    "    )\n",
    "\n",
    "  # 画像を表示する\n",
    "    cv2.imshow(\"Frame\", frame3)\n",
    "\n",
    "    key = cv2.waitKey(10)\n",
    "    if key != -1 :\n",
    "        break\n",
    "\n",
    "# 終了時処理\n",
    "cap1.release()\n",
    "cap2.release()\n",
    "cv2.destroyAllWindows()"
   ]
  },
  {
   "cell_type": "code",
   "execution_count": null,
   "id": "9e211d40",
   "metadata": {
    "scrolled": false
   },
   "outputs": [],
   "source": [
    "from matplotlib.animation import FuncAnimation\n",
    "fig = plt.figure(figsize=(10, 8))\n",
    "ax = fig.add_subplot(111)\n",
    "\n",
    "\n",
    "im_num = 0\n",
    "count=len(df_eye_inter[(df_eye_inter[\"time\"]>=start_time[im_num]) & (df_eye_inter[\"time\"]<=end_time[im_num])][\"LgazeX\"])//6\n",
    "print(count)\n",
    "\n",
    "def ani_plot(i):\n",
    "    i=i*6\n",
    "    plt.cla()\n",
    "    x = df_eye_inter[(df_eye_inter[\"time\"]>=start_time[im_num]) & (df_eye_inter[\"time\"]<=end_time[im_num])][\"LgazeX\"]*x_size#df_eye_inter[\"LgazeX\"][i]*x_size\n",
    "    y = (df_eye_inter[(df_eye_inter[\"time\"]>=start_time[im_num]) & (df_eye_inter[\"time\"]<=end_time[im_num])][\"LgazeY\"]-1)*(-y_size)#(df_eye_inter[\"LgazeY\"][i]-1)*-y_size\n",
    "    x.reset_index(drop=True,inplace=True)\n",
    "    y.reset_index(drop=True,inplace=True)\n",
    "    #ax.set_xlabel('x')\n",
    "    #ax.set_ylabel('y')\n",
    "    ax.scatter(x[i], y[i], c = \"red\")  \n",
    "    #ax.set_yticks(lin_axis,np.flipud(mel_axis))\n",
    "    ax.set_xlim(0, x_size)\n",
    "    ax.set_ylim(0, y_size)\n",
    "    #ax.set_title(\"normal_1\", size=15)\n",
    "      \n",
    "\n",
    "'''\n",
    "for j in range(time_range):\n",
    "    if plot_range + j*b >= time_range:\n",
    "        break\n",
    "    count+=1\n",
    "'''\n",
    "\n",
    "\n",
    "ani = FuncAnimation(fig=fig, func=ani_plot, interval=500, frames=count)\n",
    "s = ani.to_jshtml()\n",
    "\n",
    "#freq_reverse_path = 'Animation/'+disease+'/times/freq_reverse_'+c_map+'_'+name+'_animation.html'\n",
    "'''\n",
    "if save_flag == 1:\n",
    "    with open(freq_reverse_path, 'w') as f:\n",
    "        f.write(s)\n",
    "\n",
    "'''        \n",
    "HTML(s)"
   ]
  },
  {
   "cell_type": "code",
   "execution_count": null,
   "id": "58263027",
   "metadata": {
    "scrolled": false
   },
   "outputs": [],
   "source": [
    "plt.figure(figsize=(24,12))\n",
    "plt.grid()\n",
    "plt.scatter(df_eye_inter[\"LgazeX\"]*x_size, (df_eye_inter[\"LgazeY\"]-1)*-y_size)\n",
    "plt.plot(screen_x, z_max ,color = \"red\")\n",
    "plt.plot(screen_x, z_min ,color = \"red\")\n",
    "plt.plot(x_max, screen_y ,color = \"red\")\n",
    "plt.plot(x_min, screen_y ,color = \"red\")\n",
    "#plt.xlim(-0.05, 1.05)\n",
    "#plt.ylim(-0.05, 1.05)\n",
    "#plt.legend(loc=\"lower right\")\n",
    "#plt.xticks(np.arange(0, 15.0, 0.5))\n",
    "plt.show()"
   ]
  },
  {
   "cell_type": "code",
   "execution_count": null,
   "id": "3e176f6b",
   "metadata": {},
   "outputs": [],
   "source": [
    "plt.figure(figsize=(24,8))\n",
    "plt.grid()\n",
    "plt.plot(df_eye_inter[\"time\"], df_eye_inter[\"LgazeX\"]*x_size)\n",
    "#plt.legend(loc=\"lower right\")\n",
    "#plt.xticks(np.arange(0, 15.0, 0.5))\n",
    "plt.show()"
   ]
  },
  {
   "cell_type": "markdown",
   "id": "a6b727d8",
   "metadata": {},
   "source": [
    "# Spectrogram個別分析"
   ]
  },
  {
   "cell_type": "markdown",
   "id": "b65568af",
   "metadata": {},
   "source": [
    "## 動画35秒から録画開始　35秒\n",
    "## Aさん・6秒後に提示開始、10秒目から説明開始　97秒目まで健常者1の説明\n",
    "## Aさん・98秒後に提示開始、100秒目から説明開始　117秒目まで健常者2の説明\n",
    "## Aさん・127秒後に提示開始、130秒目から説明開始　160秒目まで間質性肺炎患者1の説明\n",
    "## Aさん・161秒後に提示開始、162秒目から説明開始　185秒目まで間質性肺炎患者2の説明\n"
   ]
  },
  {
   "cell_type": "code",
   "execution_count": 13,
   "id": "34c16c15",
   "metadata": {},
   "outputs": [],
   "source": [
    "start_time = [6.0,98.0,127.0,161.0]\n",
    "explain_time = [10.0,100.0,130.0,162.0]\n",
    "end_time = [97.0,117.0,160.0,185.0]"
   ]
  },
  {
   "cell_type": "markdown",
   "id": "6df23736",
   "metadata": {},
   "source": [
    "# Lgaze"
   ]
  },
  {
   "cell_type": "code",
   "execution_count": null,
   "id": "f93f12ad",
   "metadata": {
    "scrolled": true
   },
   "outputs": [],
   "source": [
    "for im_num in range(data_num):\n",
    "    plt.figure(figsize=(24, 12))\n",
    "    plt.grid()\n",
    "    plt.scatter(df_eye_inter[(df_eye_inter[\"time\"]>=start_time[im_num]) & (df_eye_inter[\"time\"]<=end_time[im_num])][\"LgazeX\"]*x_size,  ((df_eye_inter[(df_eye_inter[\"time\"]>=start_time[im_num]) & (df_eye_inter[\"time\"]<=end_time[im_num])][\"LgazeY\"])-1)*-y_size)\n",
    "    plt.plot(screen_x, z_max ,color = \"red\")\n",
    "    plt.plot(screen_x, z_min ,color = \"red\")\n",
    "    plt.plot(x_max, screen_y ,color = \"red\")\n",
    "    plt.plot(x_min, screen_y ,color = \"red\")\n",
    "    plt.xlim(0, x_size)\n",
    "    plt.ylim(0, y_size)\n",
    "    plt.show()"
   ]
  },
  {
   "cell_type": "markdown",
   "id": "2b793530",
   "metadata": {},
   "source": [
    "初めて見るものに対してのバイアス"
   ]
  },
  {
   "cell_type": "markdown",
   "id": "b97e58e6",
   "metadata": {},
   "source": [
    "# Rgaze"
   ]
  },
  {
   "cell_type": "code",
   "execution_count": null,
   "id": "e0e2b225",
   "metadata": {
    "scrolled": true
   },
   "outputs": [],
   "source": [
    "for im_num in range(data_num):\n",
    "    plt.figure(figsize=(24, 12))\n",
    "    plt.grid()\n",
    "    plt.scatter(df_eye_inter[(df_eye_inter[\"time\"]>=start_time[im_num]) & (df_eye_inter[\"time\"]<=end_time[im_num])][\"RgazeX\"]*x_size,  ((df_eye_inter[(df_eye_inter[\"time\"]>=start_time[im_num]) & (df_eye_inter[\"time\"]<=end_time[im_num])][\"RgazeY\"])-1)*-y_size)\n",
    "    plt.plot(screen_x, z_max ,color = \"red\")\n",
    "    plt.plot(screen_x, z_min ,color = \"red\")\n",
    "    plt.plot(x_max, screen_y ,color = \"red\")\n",
    "    plt.plot(x_min, screen_y ,color = \"red\")\n",
    "    plt.xlim(0, x_size)\n",
    "    plt.ylim(0, y_size)\n",
    "    plt.show()"
   ]
  },
  {
   "cell_type": "markdown",
   "id": "45d3602a",
   "metadata": {},
   "source": [
    "# 3Dplot個別分析"
   ]
  },
  {
   "cell_type": "markdown",
   "id": "4d587bdd",
   "metadata": {},
   "source": [
    "## 動画4:32秒から録画開始　272秒\n",
    "## Aさん・21秒後に提示開始、23秒目から説明開始　62秒目まで健常者1の説明\n",
    "## Aさん・63秒後に提示開始、64秒目から説明開始　92秒目まで健常者2の説明\n",
    "## Aさん・95秒後に提示開始、97秒目から説明開始　122秒目まで間質性肺炎患者1の説明\n",
    "## Aさん・123秒後に提示開始、124秒目から説明開始　140秒目まで間質性肺炎患者2の説明"
   ]
  },
  {
   "cell_type": "code",
   "execution_count": null,
   "id": "fadc1ce3",
   "metadata": {},
   "outputs": [],
   "source": [
    "start_time = [21.0,63.0,95.0,123.0]\n",
    "explain_time = [23.0,64.0,97.0,124.0]\n",
    "end_time = [62.0,92.0,122.0,140.0]"
   ]
  },
  {
   "cell_type": "code",
   "execution_count": null,
   "id": "b867cab5",
   "metadata": {},
   "outputs": [],
   "source": [
    "x_size = 1366\n",
    "y_size = 768\n",
    "screen_x = np.linspace(340.0, 930.0, 10000)\n",
    "z_max = np.linspace(y_size-665, y_size-665, 10000)\n",
    "z_min = np.linspace(y_size-130, y_size-130, 10000)\n",
    "\n",
    "screen_y = np.linspace(y_size-665, y_size-130, 10000)\n",
    "x_max = np.linspace(930, 930, 10000)\n",
    "x_min = np.linspace(340, 340, 10000)\n",
    "\n",
    "high_freq = np.linspace(y_size-360, y_size-360, 10000)"
   ]
  },
  {
   "cell_type": "markdown",
   "id": "43ac9dee",
   "metadata": {},
   "source": [
    "# Lgaze"
   ]
  },
  {
   "cell_type": "code",
   "execution_count": null,
   "id": "bfe28d60",
   "metadata": {
    "scrolled": true
   },
   "outputs": [],
   "source": [
    "for im_num in range(data_num):\n",
    "    plt.figure(figsize=(24, 12))\n",
    "    plt.grid()\n",
    "    plt.scatter(df_eye_inter_plot[(df_eye_inter_plot[\"time\"]>=start_time[im_num]) & (df_eye_inter_plot[\"time\"]<=end_time[im_num])][\"LgazeX\"]*x_size,  ((df_eye_inter_plot[(df_eye_inter[\"time\"]>=start_time[im_num]) & (df_eye_inter_plot[\"time\"]<=end_time[im_num])][\"LgazeY\"])-1)*-y_size)\n",
    "    plt.plot(screen_x, z_max ,color = \"red\")\n",
    "    plt.plot(screen_x, z_min ,color = \"red\")\n",
    "    \n",
    "    plt.plot(screen_x, high_freq ,color = \"red\")\n",
    "    \n",
    "    plt.plot(x_max, screen_y ,color = \"red\")\n",
    "    plt.plot(x_min, screen_y ,color = \"red\")\n",
    "    \n",
    "    plt.xlim(0, x_size)\n",
    "    plt.ylim(0, y_size)\n",
    "    \n",
    "    plt.show()"
   ]
  },
  {
   "cell_type": "markdown",
   "id": "e796acbf",
   "metadata": {},
   "source": [
    "# Rgaze"
   ]
  },
  {
   "cell_type": "code",
   "execution_count": null,
   "id": "436de0e5",
   "metadata": {
    "scrolled": true
   },
   "outputs": [],
   "source": [
    "for im_num in range(data_num):\n",
    "    plt.figure(figsize=(24, 12))\n",
    "    plt.grid()\n",
    "    plt.scatter(df_eye_inter_plot[(df_eye_inter_plot[\"time\"]>=start_time[im_num]) & (df_eye_inter_plot[\"time\"]<=end_time[im_num])][\"RgazeX\"]*x_size,  ((df_eye_inter_plot[(df_eye_inter[\"time\"]>=start_time[im_num]) & (df_eye_inter_plot[\"time\"]<=end_time[im_num])][\"RgazeY\"])-1)*-y_size)\n",
    "    plt.plot(screen_x, z_max ,color = \"red\")\n",
    "    plt.plot(screen_x, z_min ,color = \"red\")\n",
    "    \n",
    "    plt.plot(screen_x, high_freq ,color = \"red\")\n",
    "    \n",
    "    plt.plot(x_max, screen_y ,color = \"red\")\n",
    "    plt.plot(x_min, screen_y ,color = \"red\")\n",
    "    \n",
    "    plt.xlim(0, x_size)\n",
    "    plt.ylim(0, y_size)\n",
    "    plt.show()"
   ]
  },
  {
   "cell_type": "markdown",
   "id": "6ce4646c",
   "metadata": {},
   "source": [
    "# 3D Animation個別分析"
   ]
  },
  {
   "cell_type": "markdown",
   "id": "73b834fc",
   "metadata": {},
   "source": [
    "## 7分26秒から録画開始　446秒\n",
    "## Aさん・15秒後に提示開始、15秒目から説明開始　42秒目まで健常者1の説明\n",
    "## Aさん・51秒後に提示開始、51秒目から説明開始　82秒目まで健常者2の説明\n",
    "## Aさん・92秒後に提示開始、92秒目から説明開始　121秒目まで間質性肺炎患者1の説明\n",
    "## Aさん・129秒後に提示開始、129秒目から説明開始　157秒目まで間質性肺炎患者2の説明"
   ]
  },
  {
   "cell_type": "code",
   "execution_count": null,
   "id": "f71f0a3d",
   "metadata": {},
   "outputs": [],
   "source": [
    "start_time = [15.0,51.0,92.0,129.0]\n",
    "explain_time = [15.0,51.0,92.0,129.0]\n",
    "end_time = [42.0,82.0,121.0,157.0]"
   ]
  },
  {
   "cell_type": "code",
   "execution_count": null,
   "id": "2a2f4f13",
   "metadata": {},
   "outputs": [],
   "source": [
    "x_size = 1366\n",
    "y_size = 768\n",
    "screen_x = np.linspace(220.0, 870.0, 10000)\n",
    "z_max = np.linspace(y_size-700, y_size-700, 10000)\n",
    "z_min = np.linspace(y_size-100, y_size-100, 10000)\n",
    "\n",
    "screen_y = np.linspace(y_size-700, y_size-100, 10000)\n",
    "x_max = np.linspace(870, 870, 10000)\n",
    "x_min = np.linspace(220, 220, 10000)\n",
    "\n",
    "high_freq = np.linspace(y_size-300, y_size-300, 10000)"
   ]
  },
  {
   "cell_type": "markdown",
   "id": "3fe7ac12",
   "metadata": {},
   "source": [
    "# Lgaze"
   ]
  },
  {
   "cell_type": "code",
   "execution_count": null,
   "id": "3eb58872",
   "metadata": {
    "scrolled": true
   },
   "outputs": [],
   "source": [
    "for im_num in range(data_num):\n",
    "    plt.figure(figsize=(24, 12))\n",
    "    plt.grid()\n",
    "    plt.scatter(df_eye_inter_anime[(df_eye_inter_anime[\"time\"]>=start_time[im_num]) & (df_eye_inter_anime[\"time\"]<=end_time[im_num])][\"LgazeX\"]*x_size,  ((df_eye_inter_anime[(df_eye_inter[\"time\"]>=start_time[im_num]) & (df_eye_inter_anime[\"time\"]<=end_time[im_num])][\"LgazeY\"])-1)*-y_size)\n",
    "    plt.plot(screen_x, z_max ,color = \"red\")\n",
    "    plt.plot(screen_x, z_min ,color = \"red\")\n",
    "    plt.plot(screen_x, high_freq ,color = \"red\")\n",
    "    plt.plot(x_max, screen_y ,color = \"red\")\n",
    "    plt.plot(x_min, screen_y ,color = \"red\")\n",
    "    \n",
    "    plt.xlim(0, x_size)\n",
    "    plt.ylim(0, y_size)\n",
    "    plt.show()"
   ]
  },
  {
   "cell_type": "markdown",
   "id": "59d71798",
   "metadata": {},
   "source": [
    "# Rgaze"
   ]
  },
  {
   "cell_type": "code",
   "execution_count": null,
   "id": "fdffcc83",
   "metadata": {},
   "outputs": [],
   "source": [
    "for im_num in range(data_num):\n",
    "    plt.figure(figsize=(24, 12))\n",
    "    plt.grid()\n",
    "    plt.scatter(df_eye_inter_anime[(df_eye_inter_anime[\"time\"]>=start_time[im_num]) & (df_eye_inter_anime[\"time\"]<=end_time[im_num])][\"RgazeX\"]*x_size,  ((df_eye_inter_anime[(df_eye_inter[\"time\"]>=start_time[im_num]) & (df_eye_inter_anime[\"time\"]<=end_time[im_num])][\"RgazeY\"])-1)*-y_size)\n",
    "    plt.plot(screen_x, z_max ,color = \"red\")\n",
    "    plt.plot(screen_x, z_min ,color = \"red\")\n",
    "    plt.plot(screen_x, high_freq ,color = \"red\")\n",
    "    plt.plot(x_max, screen_y ,color = \"red\")\n",
    "    plt.plot(x_min, screen_y ,color = \"red\")\n",
    "    plt.xlim(0, x_size)\n",
    "    plt.ylim(0, y_size)\n",
    "    plt.show()"
   ]
  },
  {
   "cell_type": "code",
   "execution_count": null,
   "id": "84abe465",
   "metadata": {},
   "outputs": [],
   "source": []
  }
 ],
 "metadata": {
  "kernelspec": {
   "display_name": "Python (sys1)",
   "language": "python",
   "name": "sys1"
  },
  "language_info": {
   "codemirror_mode": {
    "name": "ipython",
    "version": 3
   },
   "file_extension": ".py",
   "mimetype": "text/x-python",
   "name": "python",
   "nbconvert_exporter": "python",
   "pygments_lexer": "ipython3",
   "version": "3.9.6"
  }
 },
 "nbformat": 4,
 "nbformat_minor": 5
}
